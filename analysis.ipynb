{
 "cells": [
  {
   "cell_type": "code",
   "execution_count": 29,
   "id": "a66a94a4-e5ae-469b-8f92-d36ca93a1f4f",
   "metadata": {
    "tags": []
   },
   "outputs": [],
   "source": [
    "import boto3 # using AWS services\n",
    "import botocore # exception management\n",
    "import pandas as pd # popular library for data analysis\n",
    "from IPython.display import display, Markdown # formatted output"
   ]
  },
  {
   "cell_type": "code",
   "execution_count": 30,
   "id": "2cab7cdd-d619-4017-ae1d-131fba738576",
   "metadata": {
    "tags": []
   },
   "outputs": [],
   "source": [
    "# use S3 client to call most S3 APIs\n",
    "s3 = boto3.client('s3')\n",
    "s3_resource = boto3.resource('s3')"
   ]
  },
  {
   "cell_type": "code",
   "execution_count": 31,
   "id": "9292a7f6-0499-4cf8-a97f-454b6a96c1a0",
   "metadata": {
    "tags": []
   },
   "outputs": [],
   "source": [
    "# function to create a S3 bucket for our data. Catch an exception if owned by others\n",
    "def create_bucket(bucket):\n",
    "    import logging\n",
    "\n",
    "    try:\n",
    "        s3.create_bucket(Bucket=bucket)\n",
    "    except botocore.exceptions.ClientError as e:\n",
    "        logging.error(e)\n",
    "        return 'Bucket ' + bucket + ' could not be created.'\n",
    "    return 'Created or already exists ' + bucket + ' bucket.'"
   ]
  },
  {
   "cell_type": "code",
   "execution_count": 32,
   "id": "84691fcd-5748-4fcb-9302-92e5088ac399",
   "metadata": {
    "tags": []
   },
   "outputs": [
    {
     "data": {
      "text/plain": [
       "'Created or already exists nyc-taxi-trips-analysis bucket.'"
      ]
     },
     "execution_count": 32,
     "metadata": {},
     "output_type": "execute_result"
    }
   ],
   "source": [
    "create_bucket('nyc-taxi-trips-analysis')"
   ]
  },
  {
   "cell_type": "code",
   "execution_count": 33,
   "id": "5ac51697-f697-4c7f-b6f7-db4573d407c7",
   "metadata": {
    "tags": []
   },
   "outputs": [],
   "source": [
    "# list bucket with matching name in my account\n",
    "def list_buckets(match=''):\n",
    "    response = s3.list_buckets()\n",
    "    if match:\n",
    "        print(f'Existing buckets containing \"{match}\" string:')\n",
    "    else:\n",
    "        print('All existing buckets:')\n",
    "    for bucket in response['Buckets']:\n",
    "        if match:\n",
    "            if match in bucket[\"Name\"]:\n",
    "                print(f'  {bucket[\"Name\"]}')"
   ]
  },
  {
   "cell_type": "code",
   "execution_count": 34,
   "id": "44706107-6728-4720-9436-36984bc87650",
   "metadata": {
    "tags": []
   },
   "outputs": [
    {
     "name": "stdout",
     "output_type": "stream",
     "text": [
      "Existing buckets containing \"nyc\" string:\n",
      "  nyc-ltc-result\n",
      "  nyc-taxi-trips-analysis\n",
      "  nyc-tlc-analysis\n"
     ]
    }
   ],
   "source": [
    "list_buckets(match='nyc')"
   ]
  },
  {
   "cell_type": "code",
   "execution_count": 37,
   "id": "b72c389b-ec84-497d-b7ec-8d14fdb0690f",
   "metadata": {
    "tags": []
   },
   "outputs": [],
   "source": [
    "# list contents of an S3 bucket, go over paths and find those match with given string\n",
    "def list_bucket_contents(bucket, match='', size_mb=0):\n",
    "    bucket_resource = s3_resource.Bucket(bucket)\n",
    "    total_size_gb = 0\n",
    "    total_files = 0\n",
    "    match_size_gb = 0\n",
    "    match_files = 0\n",
    "    for key in bucket_resource.objects.all():\n",
    "        key_size_mb = key.size/1024/1024\n",
    "        total_size_gb += key_size_mb\n",
    "        total_files += 1\n",
    "        list_check = False\n",
    "        if not match:\n",
    "            list_check = True\n",
    "        elif match in key.key:\n",
    "            list_check = True\n",
    "        if list_check and not size_mb:\n",
    "            match_files += 1\n",
    "            match_size_gb += key_size_mb\n",
    "            print(f'{key.key} ({key_size_mb:3.0f}MB)')\n",
    "        elif list_check and key_size_mb <= size_mb:\n",
    "            match_files += 1\n",
    "            match_size_gb += key_size_mb\n",
    "            print(f'{key.key} ({key_size_mb:3.0f}MB)')\n",
    "\n",
    "    if match:\n",
    "        print(f'Matched file size is {match_size_gb/1024:3.1f}GB with {match_files} files')            \n",
    "    \n",
    "    print(f'Bucket {bucket} total size is {total_size_gb/1024:3.1f}GB with {total_files} files')"
   ]
  },
  {
   "cell_type": "code",
   "execution_count": 66,
   "id": "8d02f0b7-a62f-4986-a0ee-aaedd8d60368",
   "metadata": {
    "tags": []
   },
   "outputs": [
    {
     "name": "stdout",
     "output_type": "stream",
     "text": [
      "csv_backup/fhv_tripdata_2022-01.csv ( 69MB)\n",
      "csv_backup/fhv_tripdata_2022-02.csv ( 74MB)\n",
      "csv_backup/green_tripdata_2022-01.csv (  6MB)\n",
      "csv_backup/green_tripdata_2022-02.csv (  7MB)\n",
      "csv_backup/yellow_tripdata_2022-01.csv (239MB)\n",
      "trip data/fhv_tripdata_2022-01.parquet ( 11MB)\n",
      "trip data/fhv_tripdata_2022-02.parquet ( 12MB)\n",
      "trip data/fhv_tripdata_2022-03.parquet ( 13MB)\n",
      "trip data/fhv_tripdata_2022-04.parquet ( 12MB)\n",
      "trip data/fhv_tripdata_2022-05.parquet ( 12MB)\n",
      "trip data/fhv_tripdata_2022-06.parquet ( 12MB)\n",
      "trip data/fhv_tripdata_2022-07.parquet ( 11MB)\n",
      "trip data/fhv_tripdata_2022-08.parquet ( 11MB)\n",
      "trip data/fhv_tripdata_2022-09.parquet ( 11MB)\n",
      "trip data/fhv_tripdata_2022-10.parquet ( 11MB)\n",
      "trip data/fhv_tripdata_2022-11.parquet ( 11MB)\n",
      "trip data/fhv_tripdata_2022-12.parquet ( 12MB)\n",
      "trip data/green_tripdata_2022-01.parquet (  1MB)\n",
      "trip data/green_tripdata_2022-02.parquet (  1MB)\n",
      "trip data/green_tripdata_2022-03.parquet (  2MB)\n",
      "trip data/green_tripdata_2022-04.parquet (  1MB)\n",
      "trip data/green_tripdata_2022-05.parquet (  2MB)\n",
      "trip data/green_tripdata_2022-06.parquet (  1MB)\n",
      "trip data/green_tripdata_2022-07.parquet (  1MB)\n",
      "trip data/green_tripdata_2022-08.parquet (  1MB)\n",
      "trip data/green_tripdata_2022-09.parquet (  1MB)\n",
      "trip data/green_tripdata_2022-10.parquet (  1MB)\n",
      "trip data/green_tripdata_2022-11.parquet (  1MB)\n",
      "trip data/green_tripdata_2022-12.parquet (  1MB)\n",
      "trip data/yellow_tripdata_2022-01.parquet ( 36MB)\n",
      "trip data/yellow_tripdata_2022-02.parquet ( 44MB)\n",
      "trip data/yellow_tripdata_2022-03.parquet ( 53MB)\n",
      "trip data/yellow_tripdata_2022-04.parquet ( 53MB)\n",
      "trip data/yellow_tripdata_2022-05.parquet ( 53MB)\n",
      "trip data/yellow_tripdata_2022-06.parquet ( 53MB)\n",
      "trip data/yellow_tripdata_2022-07.parquet ( 47MB)\n",
      "trip data/yellow_tripdata_2022-08.parquet ( 47MB)\n",
      "trip data/yellow_tripdata_2022-09.parquet ( 47MB)\n",
      "trip data/yellow_tripdata_2022-10.parquet ( 54MB)\n",
      "trip data/yellow_tripdata_2022-11.parquet ( 48MB)\n",
      "trip data/yellow_tripdata_2022-12.parquet ( 51MB)\n",
      "Matched file size is 1.1GB with 41 files\n",
      "Bucket nyc-tlc total size is 377.3GB with 823 files\n"
     ]
    }
   ],
   "source": [
    "# match with 2022 in the open dataset nyc-tlc,with size less than 250 mb\n",
    "list_bucket_contents(bucket='nyc-tlc', match='2022', size_mb=250)"
   ]
  },
  {
   "cell_type": "code",
   "execution_count": 40,
   "id": "908f6487-bed4-4feb-a9ba-fd02929d05cf",
   "metadata": {
    "tags": []
   },
   "outputs": [],
   "source": [
    "# takes in bucket name and key (path) and rows to preview public registry data, without download or save to our own S3\n",
    "def preview_csv_dataset(bucket, key, rows=10):\n",
    "    data_source = {\n",
    "            'Bucket': bucket,\n",
    "            'Key': key\n",
    "        }\n",
    "    # Generate the URL to get Key from Bucket\n",
    "    url = s3.generate_presigned_url(\n",
    "        ClientMethod = 'get_object',\n",
    "        Params = data_source\n",
    "    )\n",
    "\n",
    "    data = pd.read_csv(url, nrows=rows)\n",
    "    return data"
   ]
  },
  {
   "cell_type": "code",
   "execution_count": 42,
   "id": "fde854ee-16b3-4a90-a607-1aaee53ed1da",
   "metadata": {
    "tags": []
   },
   "outputs": [],
   "source": [
    "df = preview_csv_dataset(bucket='nyc-tlc', key='csv_backup/yellow_tripdata_2022-01.csv', rows=100)"
   ]
  },
  {
   "cell_type": "code",
   "execution_count": 43,
   "id": "7ead8289-f1de-4724-83f7-4b310b3ee03c",
   "metadata": {
    "tags": []
   },
   "outputs": [
    {
     "data": {
      "text/html": [
       "<div>\n",
       "<style scoped>\n",
       "    .dataframe tbody tr th:only-of-type {\n",
       "        vertical-align: middle;\n",
       "    }\n",
       "\n",
       "    .dataframe tbody tr th {\n",
       "        vertical-align: top;\n",
       "    }\n",
       "\n",
       "    .dataframe thead th {\n",
       "        text-align: right;\n",
       "    }\n",
       "</style>\n",
       "<table border=\"1\" class=\"dataframe\">\n",
       "  <thead>\n",
       "    <tr style=\"text-align: right;\">\n",
       "      <th></th>\n",
       "      <th>VendorID</th>\n",
       "      <th>tpep_pickup_datetime</th>\n",
       "      <th>tpep_dropoff_datetime</th>\n",
       "      <th>passenger_count</th>\n",
       "      <th>trip_distance</th>\n",
       "      <th>RatecodeID</th>\n",
       "      <th>store_and_fwd_flag</th>\n",
       "      <th>PULocationID</th>\n",
       "      <th>DOLocationID</th>\n",
       "      <th>payment_type</th>\n",
       "      <th>fare_amount</th>\n",
       "      <th>extra</th>\n",
       "      <th>mta_tax</th>\n",
       "      <th>tip_amount</th>\n",
       "      <th>tolls_amount</th>\n",
       "      <th>improvement_surcharge</th>\n",
       "      <th>total_amount</th>\n",
       "      <th>congestion_surcharge</th>\n",
       "    </tr>\n",
       "  </thead>\n",
       "  <tbody>\n",
       "    <tr>\n",
       "      <th>0</th>\n",
       "      <td>1</td>\n",
       "      <td>2022-01-01 00:35:40</td>\n",
       "      <td>2022-01-01 00:53:29</td>\n",
       "      <td>2.0</td>\n",
       "      <td>3.80</td>\n",
       "      <td>1.0</td>\n",
       "      <td>N</td>\n",
       "      <td>142</td>\n",
       "      <td>236</td>\n",
       "      <td>1</td>\n",
       "      <td>14.5</td>\n",
       "      <td>3.0</td>\n",
       "      <td>0.5</td>\n",
       "      <td>3.65</td>\n",
       "      <td>0.0</td>\n",
       "      <td>0.3</td>\n",
       "      <td>21.95</td>\n",
       "      <td>2.5</td>\n",
       "    </tr>\n",
       "    <tr>\n",
       "      <th>1</th>\n",
       "      <td>1</td>\n",
       "      <td>2022-01-01 00:33:43</td>\n",
       "      <td>2022-01-01 00:42:07</td>\n",
       "      <td>1.0</td>\n",
       "      <td>2.10</td>\n",
       "      <td>1.0</td>\n",
       "      <td>N</td>\n",
       "      <td>236</td>\n",
       "      <td>42</td>\n",
       "      <td>1</td>\n",
       "      <td>8.0</td>\n",
       "      <td>0.5</td>\n",
       "      <td>0.5</td>\n",
       "      <td>4.00</td>\n",
       "      <td>0.0</td>\n",
       "      <td>0.3</td>\n",
       "      <td>13.30</td>\n",
       "      <td>0.0</td>\n",
       "    </tr>\n",
       "    <tr>\n",
       "      <th>2</th>\n",
       "      <td>2</td>\n",
       "      <td>2022-01-01 00:53:21</td>\n",
       "      <td>2022-01-01 01:02:19</td>\n",
       "      <td>1.0</td>\n",
       "      <td>0.97</td>\n",
       "      <td>1.0</td>\n",
       "      <td>N</td>\n",
       "      <td>166</td>\n",
       "      <td>166</td>\n",
       "      <td>1</td>\n",
       "      <td>7.5</td>\n",
       "      <td>0.5</td>\n",
       "      <td>0.5</td>\n",
       "      <td>1.76</td>\n",
       "      <td>0.0</td>\n",
       "      <td>0.3</td>\n",
       "      <td>10.56</td>\n",
       "      <td>0.0</td>\n",
       "    </tr>\n",
       "    <tr>\n",
       "      <th>3</th>\n",
       "      <td>2</td>\n",
       "      <td>2022-01-01 00:25:21</td>\n",
       "      <td>2022-01-01 00:35:23</td>\n",
       "      <td>1.0</td>\n",
       "      <td>1.09</td>\n",
       "      <td>1.0</td>\n",
       "      <td>N</td>\n",
       "      <td>114</td>\n",
       "      <td>68</td>\n",
       "      <td>2</td>\n",
       "      <td>8.0</td>\n",
       "      <td>0.5</td>\n",
       "      <td>0.5</td>\n",
       "      <td>0.00</td>\n",
       "      <td>0.0</td>\n",
       "      <td>0.3</td>\n",
       "      <td>11.80</td>\n",
       "      <td>2.5</td>\n",
       "    </tr>\n",
       "    <tr>\n",
       "      <th>4</th>\n",
       "      <td>2</td>\n",
       "      <td>2022-01-01 00:36:48</td>\n",
       "      <td>2022-01-01 01:14:20</td>\n",
       "      <td>1.0</td>\n",
       "      <td>4.30</td>\n",
       "      <td>1.0</td>\n",
       "      <td>N</td>\n",
       "      <td>68</td>\n",
       "      <td>163</td>\n",
       "      <td>1</td>\n",
       "      <td>23.5</td>\n",
       "      <td>0.5</td>\n",
       "      <td>0.5</td>\n",
       "      <td>3.00</td>\n",
       "      <td>0.0</td>\n",
       "      <td>0.3</td>\n",
       "      <td>30.30</td>\n",
       "      <td>2.5</td>\n",
       "    </tr>\n",
       "  </tbody>\n",
       "</table>\n",
       "</div>"
      ],
      "text/plain": [
       "   VendorID tpep_pickup_datetime tpep_dropoff_datetime  passenger_count  \\\n",
       "0         1  2022-01-01 00:35:40   2022-01-01 00:53:29              2.0   \n",
       "1         1  2022-01-01 00:33:43   2022-01-01 00:42:07              1.0   \n",
       "2         2  2022-01-01 00:53:21   2022-01-01 01:02:19              1.0   \n",
       "3         2  2022-01-01 00:25:21   2022-01-01 00:35:23              1.0   \n",
       "4         2  2022-01-01 00:36:48   2022-01-01 01:14:20              1.0   \n",
       "\n",
       "   trip_distance  RatecodeID store_and_fwd_flag  PULocationID  DOLocationID  \\\n",
       "0           3.80         1.0                  N           142           236   \n",
       "1           2.10         1.0                  N           236            42   \n",
       "2           0.97         1.0                  N           166           166   \n",
       "3           1.09         1.0                  N           114            68   \n",
       "4           4.30         1.0                  N            68           163   \n",
       "\n",
       "   payment_type  fare_amount  extra  mta_tax  tip_amount  tolls_amount  \\\n",
       "0             1         14.5    3.0      0.5        3.65           0.0   \n",
       "1             1          8.0    0.5      0.5        4.00           0.0   \n",
       "2             1          7.5    0.5      0.5        1.76           0.0   \n",
       "3             2          8.0    0.5      0.5        0.00           0.0   \n",
       "4             1         23.5    0.5      0.5        3.00           0.0   \n",
       "\n",
       "   improvement_surcharge  total_amount  congestion_surcharge  \n",
       "0                    0.3         21.95                   2.5  \n",
       "1                    0.3         13.30                   0.0  \n",
       "2                    0.3         10.56                   0.0  \n",
       "3                    0.3         11.80                   2.5  \n",
       "4                    0.3         30.30                   2.5  "
      ]
     },
     "execution_count": 43,
     "metadata": {},
     "output_type": "execute_result"
    }
   ],
   "source": [
    "df.head()"
   ]
  },
  {
   "cell_type": "code",
   "execution_count": 44,
   "id": "3f14b37c-48af-42b6-89d0-3cdd2c0dbd5b",
   "metadata": {
    "tags": []
   },
   "outputs": [
    {
     "data": {
      "text/plain": [
       "(100, 18)"
      ]
     },
     "execution_count": 44,
     "metadata": {},
     "output_type": "execute_result"
    }
   ],
   "source": [
    "df.shape"
   ]
  },
  {
   "cell_type": "code",
   "execution_count": 45,
   "id": "637f1237-4027-4e93-af0c-a2c49f8b9db5",
   "metadata": {
    "tags": []
   },
   "outputs": [
    {
     "name": "stdout",
     "output_type": "stream",
     "text": [
      "<class 'pandas.core.frame.DataFrame'>\n",
      "RangeIndex: 100 entries, 0 to 99\n",
      "Data columns (total 18 columns):\n",
      " #   Column                 Non-Null Count  Dtype  \n",
      "---  ------                 --------------  -----  \n",
      " 0   VendorID               100 non-null    int64  \n",
      " 1   tpep_pickup_datetime   100 non-null    object \n",
      " 2   tpep_dropoff_datetime  100 non-null    object \n",
      " 3   passenger_count        100 non-null    float64\n",
      " 4   trip_distance          100 non-null    float64\n",
      " 5   RatecodeID             100 non-null    float64\n",
      " 6   store_and_fwd_flag     100 non-null    object \n",
      " 7   PULocationID           100 non-null    int64  \n",
      " 8   DOLocationID           100 non-null    int64  \n",
      " 9   payment_type           100 non-null    int64  \n",
      " 10  fare_amount            100 non-null    float64\n",
      " 11  extra                  100 non-null    float64\n",
      " 12  mta_tax                100 non-null    float64\n",
      " 13  tip_amount             100 non-null    float64\n",
      " 14  tolls_amount           100 non-null    float64\n",
      " 15  improvement_surcharge  100 non-null    float64\n",
      " 16  total_amount           100 non-null    float64\n",
      " 17  congestion_surcharge   100 non-null    float64\n",
      "dtypes: float64(11), int64(4), object(3)\n",
      "memory usage: 14.2+ KB\n"
     ]
    }
   ],
   "source": [
    "df.info()"
   ]
  },
  {
   "cell_type": "code",
   "execution_count": 46,
   "id": "5e3e2baa-7f7e-4f5b-bfef-17053da15666",
   "metadata": {
    "tags": []
   },
   "outputs": [
    {
     "data": {
      "text/html": [
       "<div>\n",
       "<style scoped>\n",
       "    .dataframe tbody tr th:only-of-type {\n",
       "        vertical-align: middle;\n",
       "    }\n",
       "\n",
       "    .dataframe tbody tr th {\n",
       "        vertical-align: top;\n",
       "    }\n",
       "\n",
       "    .dataframe thead th {\n",
       "        text-align: right;\n",
       "    }\n",
       "</style>\n",
       "<table border=\"1\" class=\"dataframe\">\n",
       "  <thead>\n",
       "    <tr style=\"text-align: right;\">\n",
       "      <th></th>\n",
       "      <th>VendorID</th>\n",
       "      <th>passenger_count</th>\n",
       "      <th>trip_distance</th>\n",
       "      <th>RatecodeID</th>\n",
       "      <th>PULocationID</th>\n",
       "      <th>DOLocationID</th>\n",
       "      <th>payment_type</th>\n",
       "      <th>fare_amount</th>\n",
       "      <th>extra</th>\n",
       "      <th>mta_tax</th>\n",
       "      <th>tip_amount</th>\n",
       "      <th>tolls_amount</th>\n",
       "      <th>improvement_surcharge</th>\n",
       "      <th>total_amount</th>\n",
       "      <th>congestion_surcharge</th>\n",
       "    </tr>\n",
       "  </thead>\n",
       "  <tbody>\n",
       "    <tr>\n",
       "      <th>count</th>\n",
       "      <td>100.000000</td>\n",
       "      <td>100.000000</td>\n",
       "      <td>100.000000</td>\n",
       "      <td>100.000000</td>\n",
       "      <td>100.000000</td>\n",
       "      <td>100.000000</td>\n",
       "      <td>100.000000</td>\n",
       "      <td>100.000000</td>\n",
       "      <td>100.000000</td>\n",
       "      <td>100.0</td>\n",
       "      <td>100.000000</td>\n",
       "      <td>100.000000</td>\n",
       "      <td>1.000000e+02</td>\n",
       "      <td>100.000000</td>\n",
       "      <td>100.000000</td>\n",
       "    </tr>\n",
       "    <tr>\n",
       "      <th>mean</th>\n",
       "      <td>1.670000</td>\n",
       "      <td>1.840000</td>\n",
       "      <td>3.854100</td>\n",
       "      <td>1.040000</td>\n",
       "      <td>163.420000</td>\n",
       "      <td>156.530000</td>\n",
       "      <td>1.370000</td>\n",
       "      <td>14.300000</td>\n",
       "      <td>1.245000</td>\n",
       "      <td>0.5</td>\n",
       "      <td>2.876000</td>\n",
       "      <td>0.458500</td>\n",
       "      <td>3.000000e-01</td>\n",
       "      <td>21.329500</td>\n",
       "      <td>2.275000</td>\n",
       "    </tr>\n",
       "    <tr>\n",
       "      <th>std</th>\n",
       "      <td>0.472582</td>\n",
       "      <td>1.212061</td>\n",
       "      <td>4.376173</td>\n",
       "      <td>0.196946</td>\n",
       "      <td>70.249078</td>\n",
       "      <td>79.026585</td>\n",
       "      <td>0.613896</td>\n",
       "      <td>11.403083</td>\n",
       "      <td>1.161232</td>\n",
       "      <td>0.0</td>\n",
       "      <td>3.502514</td>\n",
       "      <td>1.679632</td>\n",
       "      <td>5.021173e-16</td>\n",
       "      <td>15.238399</td>\n",
       "      <td>0.719059</td>\n",
       "    </tr>\n",
       "    <tr>\n",
       "      <th>min</th>\n",
       "      <td>1.000000</td>\n",
       "      <td>1.000000</td>\n",
       "      <td>0.000000</td>\n",
       "      <td>1.000000</td>\n",
       "      <td>4.000000</td>\n",
       "      <td>4.000000</td>\n",
       "      <td>1.000000</td>\n",
       "      <td>2.500000</td>\n",
       "      <td>0.000000</td>\n",
       "      <td>0.5</td>\n",
       "      <td>0.000000</td>\n",
       "      <td>0.000000</td>\n",
       "      <td>3.000000e-01</td>\n",
       "      <td>6.300000</td>\n",
       "      <td>0.000000</td>\n",
       "    </tr>\n",
       "    <tr>\n",
       "      <th>25%</th>\n",
       "      <td>1.000000</td>\n",
       "      <td>1.000000</td>\n",
       "      <td>1.140000</td>\n",
       "      <td>1.000000</td>\n",
       "      <td>114.000000</td>\n",
       "      <td>89.250000</td>\n",
       "      <td>1.000000</td>\n",
       "      <td>6.500000</td>\n",
       "      <td>0.500000</td>\n",
       "      <td>0.5</td>\n",
       "      <td>0.000000</td>\n",
       "      <td>0.000000</td>\n",
       "      <td>3.000000e-01</td>\n",
       "      <td>11.800000</td>\n",
       "      <td>2.500000</td>\n",
       "    </tr>\n",
       "    <tr>\n",
       "      <th>50%</th>\n",
       "      <td>2.000000</td>\n",
       "      <td>1.000000</td>\n",
       "      <td>2.285000</td>\n",
       "      <td>1.000000</td>\n",
       "      <td>161.000000</td>\n",
       "      <td>149.500000</td>\n",
       "      <td>1.000000</td>\n",
       "      <td>11.250000</td>\n",
       "      <td>0.500000</td>\n",
       "      <td>0.5</td>\n",
       "      <td>2.105000</td>\n",
       "      <td>0.000000</td>\n",
       "      <td>3.000000e-01</td>\n",
       "      <td>16.550000</td>\n",
       "      <td>2.500000</td>\n",
       "    </tr>\n",
       "    <tr>\n",
       "      <th>75%</th>\n",
       "      <td>2.000000</td>\n",
       "      <td>2.000000</td>\n",
       "      <td>4.447500</td>\n",
       "      <td>1.000000</td>\n",
       "      <td>237.000000</td>\n",
       "      <td>236.250000</td>\n",
       "      <td>2.000000</td>\n",
       "      <td>17.000000</td>\n",
       "      <td>3.000000</td>\n",
       "      <td>0.5</td>\n",
       "      <td>3.750000</td>\n",
       "      <td>0.000000</td>\n",
       "      <td>3.000000e-01</td>\n",
       "      <td>24.960000</td>\n",
       "      <td>2.500000</td>\n",
       "    </tr>\n",
       "    <tr>\n",
       "      <th>max</th>\n",
       "      <td>2.000000</td>\n",
       "      <td>6.000000</td>\n",
       "      <td>20.700000</td>\n",
       "      <td>2.000000</td>\n",
       "      <td>263.000000</td>\n",
       "      <td>263.000000</td>\n",
       "      <td>4.000000</td>\n",
       "      <td>52.000000</td>\n",
       "      <td>3.750000</td>\n",
       "      <td>0.5</td>\n",
       "      <td>15.750000</td>\n",
       "      <td>6.550000</td>\n",
       "      <td>3.000000e-01</td>\n",
       "      <td>78.850000</td>\n",
       "      <td>2.500000</td>\n",
       "    </tr>\n",
       "  </tbody>\n",
       "</table>\n",
       "</div>"
      ],
      "text/plain": [
       "         VendorID  passenger_count  trip_distance  RatecodeID  PULocationID  \\\n",
       "count  100.000000       100.000000     100.000000  100.000000    100.000000   \n",
       "mean     1.670000         1.840000       3.854100    1.040000    163.420000   \n",
       "std      0.472582         1.212061       4.376173    0.196946     70.249078   \n",
       "min      1.000000         1.000000       0.000000    1.000000      4.000000   \n",
       "25%      1.000000         1.000000       1.140000    1.000000    114.000000   \n",
       "50%      2.000000         1.000000       2.285000    1.000000    161.000000   \n",
       "75%      2.000000         2.000000       4.447500    1.000000    237.000000   \n",
       "max      2.000000         6.000000      20.700000    2.000000    263.000000   \n",
       "\n",
       "       DOLocationID  payment_type  fare_amount       extra  mta_tax  \\\n",
       "count    100.000000    100.000000   100.000000  100.000000    100.0   \n",
       "mean     156.530000      1.370000    14.300000    1.245000      0.5   \n",
       "std       79.026585      0.613896    11.403083    1.161232      0.0   \n",
       "min        4.000000      1.000000     2.500000    0.000000      0.5   \n",
       "25%       89.250000      1.000000     6.500000    0.500000      0.5   \n",
       "50%      149.500000      1.000000    11.250000    0.500000      0.5   \n",
       "75%      236.250000      2.000000    17.000000    3.000000      0.5   \n",
       "max      263.000000      4.000000    52.000000    3.750000      0.5   \n",
       "\n",
       "       tip_amount  tolls_amount  improvement_surcharge  total_amount  \\\n",
       "count  100.000000    100.000000           1.000000e+02    100.000000   \n",
       "mean     2.876000      0.458500           3.000000e-01     21.329500   \n",
       "std      3.502514      1.679632           5.021173e-16     15.238399   \n",
       "min      0.000000      0.000000           3.000000e-01      6.300000   \n",
       "25%      0.000000      0.000000           3.000000e-01     11.800000   \n",
       "50%      2.105000      0.000000           3.000000e-01     16.550000   \n",
       "75%      3.750000      0.000000           3.000000e-01     24.960000   \n",
       "max     15.750000      6.550000           3.000000e-01     78.850000   \n",
       "\n",
       "       congestion_surcharge  \n",
       "count            100.000000  \n",
       "mean               2.275000  \n",
       "std                0.719059  \n",
       "min                0.000000  \n",
       "25%                2.500000  \n",
       "50%                2.500000  \n",
       "75%                2.500000  \n",
       "max                2.500000  "
      ]
     },
     "execution_count": 46,
     "metadata": {},
     "output_type": "execute_result"
    }
   ],
   "source": [
    "df.describe()"
   ]
  },
  {
   "cell_type": "code",
   "execution_count": 47,
   "id": "274c4a5b-4cf3-4ff3-b360-c1e53e340c1e",
   "metadata": {
    "tags": []
   },
   "outputs": [],
   "source": [
    "# check whether the key already exist in bucket\n",
    "def key_exists(bucket, key):\n",
    "    try:\n",
    "        s3_resource.Object(bucket, key).load()\n",
    "    except botocore.exceptions.ClientError as e:\n",
    "        if e.response['Error']['Code'] == \"404\":\n",
    "            # The key does not exist.\n",
    "            return(False)\n",
    "        else:\n",
    "            # Something else has gone wrong.\n",
    "            raise\n",
    "    else:\n",
    "        # The key does exist.\n",
    "        return(True)\n",
    "\n",
    "# if key does not exist in to_bucket, copy it from the from_bucket\n",
    "def copy_among_buckets(from_bucket, from_key, to_bucket, to_key):\n",
    "    if not key_exists(to_bucket, to_key):\n",
    "        s3_resource.meta.client.copy({'Bucket': from_bucket, 'Key': from_key}, \n",
    "                                        to_bucket, to_key)        \n",
    "        print(f'File {to_key} saved to S3 bucket {to_bucket}')\n",
    "    else:\n",
    "        print(f'File {to_key} already exists in S3 bucket {to_bucket}') "
   ]
  },
  {
   "cell_type": "code",
   "execution_count": 50,
   "id": "88995f30-1ca2-4308-bc6f-d1612eb3f2ed",
   "metadata": {
    "tags": []
   },
   "outputs": [
    {
     "name": "stdout",
     "output_type": "stream",
     "text": [
      "File few-trips/yellow_tripdata_2022-01.csv saved to S3 bucket nyc-taxi-trips-analysis\n"
     ]
    }
   ],
   "source": [
    "copy_among_buckets(from_bucket='nyc-tlc', from_key='csv_backup/yellow_tripdata_2022-01.csv',\n",
    "                      to_bucket='nyc-taxi-trips-analysis', to_key='few-trips/yellow_tripdata_2022-01.csv')"
   ]
  },
  {
   "cell_type": "code",
   "execution_count": 52,
   "id": "198af102-cc84-46cc-be5e-23beec324176",
   "metadata": {
    "tags": []
   },
   "outputs": [],
   "source": [
    "# set up function to run S3 select. result captured in payload events\n",
    "def s3_select(bucket, key, statement):\n",
    "    import io\n",
    "\n",
    "    s3_select_results = s3.select_object_content(\n",
    "        Bucket=bucket,\n",
    "        Key=key,\n",
    "        Expression=statement,\n",
    "        ExpressionType='SQL',\n",
    "        InputSerialization={'CSV': {\"FileHeaderInfo\": \"Use\"}},\n",
    "        OutputSerialization={'JSON': {}},\n",
    "    )\n",
    "\n",
    "    for event in s3_select_results['Payload']:\n",
    "        if 'Records' in event:\n",
    "            df = pd.read_json(io.StringIO(event['Records']['Payload'].decode('utf-8')), lines=True)\n",
    "        elif 'Stats' in event:\n",
    "            print(f\"Scanned: {int(event['Stats']['Details']['BytesScanned'])/1024/1024:5.2f}MB\")            \n",
    "            print(f\"Processed: {int(event['Stats']['Details']['BytesProcessed'])/1024/1024:5.2f}MB\")\n",
    "            print(f\"Returned: {int(event['Stats']['Details']['BytesReturned'])/1024/1024:5.2f}MB\")\n",
    "    return (df)"
   ]
  },
  {
   "cell_type": "code",
   "execution_count": 59,
   "id": "f63872e7-bac7-46f8-bd61-b0c6422c9399",
   "metadata": {
    "tags": []
   },
   "outputs": [
    {
     "name": "stdout",
     "output_type": "stream",
     "text": [
      "Scanned:  0.25MB\n",
      "Processed:  0.19MB\n",
      "Returned:  0.01MB\n"
     ]
    }
   ],
   "source": [
    "df = s3_select(bucket='nyc-taxi-trips-analysis', key='few-trips/yellow_tripdata_2022-01.csv', \n",
    "          statement=\"\"\"\n",
    "          select passenger_count, payment_type, trip_distance, total_amount\n",
    "          from s3object s \n",
    "          limit 100\n",
    "          \"\"\")"
   ]
  },
  {
   "cell_type": "code",
   "execution_count": 60,
   "id": "9444a9e3-588a-4127-9b1f-c1281db91f8e",
   "metadata": {
    "tags": []
   },
   "outputs": [
    {
     "data": {
      "text/html": [
       "<div>\n",
       "<style scoped>\n",
       "    .dataframe tbody tr th:only-of-type {\n",
       "        vertical-align: middle;\n",
       "    }\n",
       "\n",
       "    .dataframe tbody tr th {\n",
       "        vertical-align: top;\n",
       "    }\n",
       "\n",
       "    .dataframe thead th {\n",
       "        text-align: right;\n",
       "    }\n",
       "</style>\n",
       "<table border=\"1\" class=\"dataframe\">\n",
       "  <thead>\n",
       "    <tr style=\"text-align: right;\">\n",
       "      <th></th>\n",
       "      <th>passenger_count</th>\n",
       "      <th>payment_type</th>\n",
       "      <th>trip_distance</th>\n",
       "      <th>total_amount</th>\n",
       "    </tr>\n",
       "  </thead>\n",
       "  <tbody>\n",
       "    <tr>\n",
       "      <th>0</th>\n",
       "      <td>2</td>\n",
       "      <td>1</td>\n",
       "      <td>3.80</td>\n",
       "      <td>21.95</td>\n",
       "    </tr>\n",
       "    <tr>\n",
       "      <th>1</th>\n",
       "      <td>1</td>\n",
       "      <td>1</td>\n",
       "      <td>2.10</td>\n",
       "      <td>13.30</td>\n",
       "    </tr>\n",
       "    <tr>\n",
       "      <th>2</th>\n",
       "      <td>1</td>\n",
       "      <td>1</td>\n",
       "      <td>0.97</td>\n",
       "      <td>10.56</td>\n",
       "    </tr>\n",
       "    <tr>\n",
       "      <th>3</th>\n",
       "      <td>1</td>\n",
       "      <td>2</td>\n",
       "      <td>1.09</td>\n",
       "      <td>11.80</td>\n",
       "    </tr>\n",
       "    <tr>\n",
       "      <th>4</th>\n",
       "      <td>1</td>\n",
       "      <td>1</td>\n",
       "      <td>4.30</td>\n",
       "      <td>30.30</td>\n",
       "    </tr>\n",
       "  </tbody>\n",
       "</table>\n",
       "</div>"
      ],
      "text/plain": [
       "   passenger_count  payment_type  trip_distance  total_amount\n",
       "0                2             1           3.80         21.95\n",
       "1                1             1           2.10         13.30\n",
       "2                1             1           0.97         10.56\n",
       "3                1             2           1.09         11.80\n",
       "4                1             1           4.30         30.30"
      ]
     },
     "execution_count": 60,
     "metadata": {},
     "output_type": "execute_result"
    }
   ],
   "source": [
    "df.head()"
   ]
  },
  {
   "cell_type": "code",
   "execution_count": 62,
   "id": "7a905439-0704-4560-9ec7-e7e0091e26c3",
   "metadata": {
    "tags": []
   },
   "outputs": [
    {
     "name": "stdout",
     "output_type": "stream",
     "text": [
      "Scanned:  0.03MB\n",
      "Processed:  0.02MB\n",
      "Returned:  0.01MB\n"
     ]
    }
   ],
   "source": [
    "# could also run on original S3 bucket 'nyc-tlc'\n",
    "df = s3_select(bucket='nyc-tlc', key='csv_backup/yellow_tripdata_2022-01.csv', \n",
    "          statement=\"\"\"\n",
    "          select passenger_count, payment_type, trip_distance, total_amount\n",
    "          from s3object s \n",
    "          limit 100\n",
    "          \"\"\")"
   ]
  },
  {
   "cell_type": "code",
   "execution_count": 63,
   "id": "156a4b6f-be14-45f0-86d8-a77a7bb39ce7",
   "metadata": {
    "tags": []
   },
   "outputs": [
    {
     "data": {
      "text/html": [
       "<div>\n",
       "<style scoped>\n",
       "    .dataframe tbody tr th:only-of-type {\n",
       "        vertical-align: middle;\n",
       "    }\n",
       "\n",
       "    .dataframe tbody tr th {\n",
       "        vertical-align: top;\n",
       "    }\n",
       "\n",
       "    .dataframe thead th {\n",
       "        text-align: right;\n",
       "    }\n",
       "</style>\n",
       "<table border=\"1\" class=\"dataframe\">\n",
       "  <thead>\n",
       "    <tr style=\"text-align: right;\">\n",
       "      <th></th>\n",
       "      <th>passenger_count</th>\n",
       "      <th>payment_type</th>\n",
       "      <th>trip_distance</th>\n",
       "      <th>total_amount</th>\n",
       "    </tr>\n",
       "  </thead>\n",
       "  <tbody>\n",
       "    <tr>\n",
       "      <th>0</th>\n",
       "      <td>2</td>\n",
       "      <td>1</td>\n",
       "      <td>3.80</td>\n",
       "      <td>21.95</td>\n",
       "    </tr>\n",
       "    <tr>\n",
       "      <th>1</th>\n",
       "      <td>1</td>\n",
       "      <td>1</td>\n",
       "      <td>2.10</td>\n",
       "      <td>13.30</td>\n",
       "    </tr>\n",
       "    <tr>\n",
       "      <th>2</th>\n",
       "      <td>1</td>\n",
       "      <td>1</td>\n",
       "      <td>0.97</td>\n",
       "      <td>10.56</td>\n",
       "    </tr>\n",
       "    <tr>\n",
       "      <th>3</th>\n",
       "      <td>1</td>\n",
       "      <td>2</td>\n",
       "      <td>1.09</td>\n",
       "      <td>11.80</td>\n",
       "    </tr>\n",
       "    <tr>\n",
       "      <th>4</th>\n",
       "      <td>1</td>\n",
       "      <td>1</td>\n",
       "      <td>4.30</td>\n",
       "      <td>30.30</td>\n",
       "    </tr>\n",
       "  </tbody>\n",
       "</table>\n",
       "</div>"
      ],
      "text/plain": [
       "   passenger_count  payment_type  trip_distance  total_amount\n",
       "0                2             1           3.80         21.95\n",
       "1                1             1           2.10         13.30\n",
       "2                1             1           0.97         10.56\n",
       "3                1             2           1.09         11.80\n",
       "4                1             1           4.30         30.30"
      ]
     },
     "execution_count": 63,
     "metadata": {},
     "output_type": "execute_result"
    }
   ],
   "source": [
    "df.head()"
   ]
  },
  {
   "cell_type": "code",
   "execution_count": 64,
   "id": "7a7c0a42-cda3-4815-aeeb-b05b4b7b2a74",
   "metadata": {
    "tags": []
   },
   "outputs": [
    {
     "name": "stdout",
     "output_type": "stream",
     "text": [
      "csv_backup/fhv_tripdata_2022-01.csv ( 69MB)\n",
      "csv_backup/fhv_tripdata_2022-02.csv ( 74MB)\n",
      "csv_backup/fhvhv_tripdata_2022-01.csv (890MB)\n",
      "csv_backup/fhvhv_tripdata_2022-02.csv (966MB)\n",
      "csv_backup/green_tripdata_2022-01.csv (  6MB)\n",
      "csv_backup/green_tripdata_2022-02.csv (  7MB)\n",
      "csv_backup/yellow_tripdata_2022-01.csv (239MB)\n",
      "csv_backup/yellow_tripdata_2022-02.csv (289MB)\n",
      "trip data/fhv_tripdata_2022-01.parquet ( 11MB)\n",
      "trip data/fhv_tripdata_2022-02.parquet ( 12MB)\n",
      "trip data/fhv_tripdata_2022-03.parquet ( 13MB)\n",
      "trip data/fhv_tripdata_2022-04.parquet ( 12MB)\n",
      "trip data/fhv_tripdata_2022-05.parquet ( 12MB)\n",
      "trip data/fhv_tripdata_2022-06.parquet ( 12MB)\n",
      "trip data/fhv_tripdata_2022-07.parquet ( 11MB)\n",
      "trip data/fhv_tripdata_2022-08.parquet ( 11MB)\n",
      "trip data/fhv_tripdata_2022-09.parquet ( 11MB)\n",
      "trip data/fhv_tripdata_2022-10.parquet ( 11MB)\n",
      "trip data/fhv_tripdata_2022-11.parquet ( 11MB)\n",
      "trip data/fhv_tripdata_2022-12.parquet ( 12MB)\n",
      "trip data/fhvhv_tripdata_2022-01.parquet (357MB)\n",
      "trip data/fhvhv_tripdata_2022-02.parquet (388MB)\n",
      "trip data/fhvhv_tripdata_2022-03.parquet (449MB)\n",
      "trip data/fhvhv_tripdata_2022-04.parquet (434MB)\n",
      "trip data/fhvhv_tripdata_2022-05.parquet (447MB)\n",
      "trip data/fhvhv_tripdata_2022-06.parquet (437MB)\n",
      "trip data/fhvhv_tripdata_2022-07.parquet (423MB)\n",
      "trip data/fhvhv_tripdata_2022-08.parquet (416MB)\n",
      "trip data/fhvhv_tripdata_2022-09.parquet (437MB)\n",
      "trip data/fhvhv_tripdata_2022-10.parquet (472MB)\n",
      "trip data/fhvhv_tripdata_2022-11.parquet (443MB)\n",
      "trip data/fhvhv_tripdata_2022-12.parquet (480MB)\n",
      "trip data/green_tripdata_2022-01.parquet (  1MB)\n",
      "trip data/green_tripdata_2022-02.parquet (  1MB)\n",
      "trip data/green_tripdata_2022-03.parquet (  2MB)\n",
      "trip data/green_tripdata_2022-04.parquet (  1MB)\n",
      "trip data/green_tripdata_2022-05.parquet (  2MB)\n",
      "trip data/green_tripdata_2022-06.parquet (  1MB)\n",
      "trip data/green_tripdata_2022-07.parquet (  1MB)\n",
      "trip data/green_tripdata_2022-08.parquet (  1MB)\n",
      "trip data/green_tripdata_2022-09.parquet (  1MB)\n",
      "trip data/green_tripdata_2022-10.parquet (  1MB)\n",
      "trip data/green_tripdata_2022-11.parquet (  1MB)\n",
      "trip data/green_tripdata_2022-12.parquet (  1MB)\n",
      "trip data/yellow_tripdata_2022-01.parquet ( 36MB)\n",
      "trip data/yellow_tripdata_2022-02.parquet ( 44MB)\n",
      "trip data/yellow_tripdata_2022-03.parquet ( 53MB)\n",
      "trip data/yellow_tripdata_2022-04.parquet ( 53MB)\n",
      "trip data/yellow_tripdata_2022-05.parquet ( 53MB)\n",
      "trip data/yellow_tripdata_2022-06.parquet ( 53MB)\n",
      "trip data/yellow_tripdata_2022-07.parquet ( 47MB)\n",
      "trip data/yellow_tripdata_2022-08.parquet ( 47MB)\n",
      "trip data/yellow_tripdata_2022-09.parquet ( 47MB)\n",
      "trip data/yellow_tripdata_2022-10.parquet ( 54MB)\n",
      "trip data/yellow_tripdata_2022-11.parquet ( 48MB)\n",
      "trip data/yellow_tripdata_2022-12.parquet ( 51MB)\n",
      "Matched file size is 8.3GB with 56 files\n",
      "Bucket nyc-tlc total size is 377.3GB with 823 files\n"
     ]
    }
   ],
   "source": [
    "# list all files with 2022, without size limit\n",
    "list_bucket_contents(bucket='nyc-tlc', match='2022')"
   ]
  },
  {
   "cell_type": "code",
   "execution_count": 65,
   "id": "8e73704d-222b-4f9c-89bb-5ff57a794eeb",
   "metadata": {},
   "outputs": [
    {
     "data": {
      "text/html": [
       "<div>\n",
       "<style scoped>\n",
       "    .dataframe tbody tr th:only-of-type {\n",
       "        vertical-align: middle;\n",
       "    }\n",
       "\n",
       "    .dataframe tbody tr th {\n",
       "        vertical-align: top;\n",
       "    }\n",
       "\n",
       "    .dataframe thead th {\n",
       "        text-align: right;\n",
       "    }\n",
       "</style>\n",
       "<table border=\"1\" class=\"dataframe\">\n",
       "  <thead>\n",
       "    <tr style=\"text-align: right;\">\n",
       "      <th></th>\n",
       "      <th>hvfhs_license_num</th>\n",
       "      <th>dispatching_base_num</th>\n",
       "      <th>pickup_datetime</th>\n",
       "      <th>dropoff_datetime</th>\n",
       "      <th>PULocationID</th>\n",
       "      <th>DOLocationID</th>\n",
       "      <th>SR_Flag</th>\n",
       "    </tr>\n",
       "  </thead>\n",
       "  <tbody>\n",
       "    <tr>\n",
       "      <th>0</th>\n",
       "      <td>HV0003</td>\n",
       "      <td>B03404</td>\n",
       "      <td>2022-02-01 00:02:50</td>\n",
       "      <td>2022-02-01 00:13:01</td>\n",
       "      <td>17</td>\n",
       "      <td>225</td>\n",
       "      <td>NaN</td>\n",
       "    </tr>\n",
       "    <tr>\n",
       "      <th>1</th>\n",
       "      <td>HV0003</td>\n",
       "      <td>B03404</td>\n",
       "      <td>2022-02-01 00:20:18</td>\n",
       "      <td>2022-02-01 00:28:31</td>\n",
       "      <td>37</td>\n",
       "      <td>37</td>\n",
       "      <td>NaN</td>\n",
       "    </tr>\n",
       "    <tr>\n",
       "      <th>2</th>\n",
       "      <td>HV0003</td>\n",
       "      <td>B03404</td>\n",
       "      <td>2022-02-01 00:39:18</td>\n",
       "      <td>2022-02-01 00:46:54</td>\n",
       "      <td>37</td>\n",
       "      <td>37</td>\n",
       "      <td>NaN</td>\n",
       "    </tr>\n",
       "    <tr>\n",
       "      <th>3</th>\n",
       "      <td>HV0003</td>\n",
       "      <td>B03404</td>\n",
       "      <td>2022-02-01 00:57:01</td>\n",
       "      <td>2022-02-01 01:28:27</td>\n",
       "      <td>225</td>\n",
       "      <td>21</td>\n",
       "      <td>NaN</td>\n",
       "    </tr>\n",
       "    <tr>\n",
       "      <th>4</th>\n",
       "      <td>HV0003</td>\n",
       "      <td>B03404</td>\n",
       "      <td>2022-02-01 00:02:38</td>\n",
       "      <td>2022-02-01 00:14:18</td>\n",
       "      <td>25</td>\n",
       "      <td>17</td>\n",
       "      <td>NaN</td>\n",
       "    </tr>\n",
       "    <tr>\n",
       "      <th>5</th>\n",
       "      <td>HV0003</td>\n",
       "      <td>B03404</td>\n",
       "      <td>2022-02-01 00:27:00</td>\n",
       "      <td>2022-02-01 00:41:31</td>\n",
       "      <td>17</td>\n",
       "      <td>225</td>\n",
       "      <td>NaN</td>\n",
       "    </tr>\n",
       "    <tr>\n",
       "      <th>6</th>\n",
       "      <td>HV0003</td>\n",
       "      <td>B03404</td>\n",
       "      <td>2022-02-01 00:56:12</td>\n",
       "      <td>2022-02-01 01:16:19</td>\n",
       "      <td>49</td>\n",
       "      <td>79</td>\n",
       "      <td>NaN</td>\n",
       "    </tr>\n",
       "    <tr>\n",
       "      <th>7</th>\n",
       "      <td>HV0003</td>\n",
       "      <td>B03404</td>\n",
       "      <td>2022-02-01 00:25:58</td>\n",
       "      <td>2022-02-01 00:31:34</td>\n",
       "      <td>107</td>\n",
       "      <td>229</td>\n",
       "      <td>NaN</td>\n",
       "    </tr>\n",
       "    <tr>\n",
       "      <th>8</th>\n",
       "      <td>HV0005</td>\n",
       "      <td>B03406</td>\n",
       "      <td>2022-02-01 00:18:13</td>\n",
       "      <td>2022-02-01 00:25:14</td>\n",
       "      <td>75</td>\n",
       "      <td>75</td>\n",
       "      <td>NaN</td>\n",
       "    </tr>\n",
       "    <tr>\n",
       "      <th>9</th>\n",
       "      <td>HV0005</td>\n",
       "      <td>B03406</td>\n",
       "      <td>2022-02-01 00:30:52</td>\n",
       "      <td>2022-02-01 00:40:43</td>\n",
       "      <td>263</td>\n",
       "      <td>145</td>\n",
       "      <td>NaN</td>\n",
       "    </tr>\n",
       "  </tbody>\n",
       "</table>\n",
       "</div>"
      ],
      "text/plain": [
       "  hvfhs_license_num dispatching_base_num      pickup_datetime  \\\n",
       "0            HV0003               B03404  2022-02-01 00:02:50   \n",
       "1            HV0003               B03404  2022-02-01 00:20:18   \n",
       "2            HV0003               B03404  2022-02-01 00:39:18   \n",
       "3            HV0003               B03404  2022-02-01 00:57:01   \n",
       "4            HV0003               B03404  2022-02-01 00:02:38   \n",
       "5            HV0003               B03404  2022-02-01 00:27:00   \n",
       "6            HV0003               B03404  2022-02-01 00:56:12   \n",
       "7            HV0003               B03404  2022-02-01 00:25:58   \n",
       "8            HV0005               B03406  2022-02-01 00:18:13   \n",
       "9            HV0005               B03406  2022-02-01 00:30:52   \n",
       "\n",
       "      dropoff_datetime  PULocationID  DOLocationID  SR_Flag  \n",
       "0  2022-02-01 00:13:01            17           225      NaN  \n",
       "1  2022-02-01 00:28:31            37            37      NaN  \n",
       "2  2022-02-01 00:46:54            37            37      NaN  \n",
       "3  2022-02-01 01:28:27           225            21      NaN  \n",
       "4  2022-02-01 00:14:18            25            17      NaN  \n",
       "5  2022-02-01 00:41:31            17           225      NaN  \n",
       "6  2022-02-01 01:16:19            49            79      NaN  \n",
       "7  2022-02-01 00:31:34           107           229      NaN  \n",
       "8  2022-02-01 00:25:14            75            75      NaN  \n",
       "9  2022-02-01 00:40:43           263           145      NaN  "
      ]
     },
     "execution_count": 65,
     "metadata": {},
     "output_type": "execute_result"
    }
   ],
   "source": [
    "# More files, some >256 MB, can still preview but cannot use S3 select due to 256 MB limit\n",
    "preview_csv_dataset(bucket='nyc-tlc', key='csv_backup/fhvhv_tripdata_2022-02.csv')"
   ]
  },
  {
   "cell_type": "code",
   "execution_count": 70,
   "id": "757eafcf-ca75-4b40-ab24-da640dcb3d57",
   "metadata": {
    "tags": []
   },
   "outputs": [
    {
     "name": "stdout",
     "output_type": "stream",
     "text": [
      "File many-trips/fhvhv_tripdata_2022-02.csv already exists in S3 bucket nyc-taxi-trips-analysis\n"
     ]
    }
   ],
   "source": [
    "copy_among_buckets(from_bucket='nyc-tlc', from_key='csv_backup/fhvhv_tripdata_2022-02.csv',\n",
    "                      to_bucket='nyc-taxi-trips-analysis', to_key='many-trips/fhvhv_tripdata_2022-02.csv')"
   ]
  },
  {
   "cell_type": "code",
   "execution_count": 74,
   "id": "11d5cea3-1a47-4045-882a-086aec3db02b",
   "metadata": {
    "tags": []
   },
   "outputs": [
    {
     "name": "stdout",
     "output_type": "stream",
     "text": [
      "many-trips/fhvhv_tripdata_2022-02.csv (966MB)\n",
      "Matched file size is 0.9GB with 1 files\n",
      "Bucket nyc-taxi-trips-analysis total size is 1.2GB with 3 files\n"
     ]
    }
   ],
   "source": [
    "list_bucket_contents(bucket='nyc-taxi-trips-analysis', match='trips/fhvhv')"
   ]
  },
  {
   "cell_type": "code",
   "execution_count": 86,
   "id": "4752be46-5f74-4c3b-a250-6ed670784d3c",
   "metadata": {
    "tags": []
   },
   "outputs": [],
   "source": [
    "df = preview_csv_dataset(bucket='nyc-taxi-trips-analysis', key='many-trips/fhvhv_tripdata_2022-02.csv', rows=100)"
   ]
  },
  {
   "cell_type": "code",
   "execution_count": 87,
   "id": "c6f1df9e-6565-48e8-b5c5-c01449100f2b",
   "metadata": {
    "tags": []
   },
   "outputs": [
    {
     "data": {
      "text/html": [
       "<div>\n",
       "<style scoped>\n",
       "    .dataframe tbody tr th:only-of-type {\n",
       "        vertical-align: middle;\n",
       "    }\n",
       "\n",
       "    .dataframe tbody tr th {\n",
       "        vertical-align: top;\n",
       "    }\n",
       "\n",
       "    .dataframe thead th {\n",
       "        text-align: right;\n",
       "    }\n",
       "</style>\n",
       "<table border=\"1\" class=\"dataframe\">\n",
       "  <thead>\n",
       "    <tr style=\"text-align: right;\">\n",
       "      <th></th>\n",
       "      <th>hvfhs_license_num</th>\n",
       "      <th>dispatching_base_num</th>\n",
       "      <th>pickup_datetime</th>\n",
       "      <th>dropoff_datetime</th>\n",
       "      <th>PULocationID</th>\n",
       "      <th>DOLocationID</th>\n",
       "      <th>SR_Flag</th>\n",
       "    </tr>\n",
       "  </thead>\n",
       "  <tbody>\n",
       "    <tr>\n",
       "      <th>0</th>\n",
       "      <td>HV0003</td>\n",
       "      <td>B03404</td>\n",
       "      <td>2022-02-01 00:02:50</td>\n",
       "      <td>2022-02-01 00:13:01</td>\n",
       "      <td>17</td>\n",
       "      <td>225</td>\n",
       "      <td>NaN</td>\n",
       "    </tr>\n",
       "    <tr>\n",
       "      <th>1</th>\n",
       "      <td>HV0003</td>\n",
       "      <td>B03404</td>\n",
       "      <td>2022-02-01 00:20:18</td>\n",
       "      <td>2022-02-01 00:28:31</td>\n",
       "      <td>37</td>\n",
       "      <td>37</td>\n",
       "      <td>NaN</td>\n",
       "    </tr>\n",
       "    <tr>\n",
       "      <th>2</th>\n",
       "      <td>HV0003</td>\n",
       "      <td>B03404</td>\n",
       "      <td>2022-02-01 00:39:18</td>\n",
       "      <td>2022-02-01 00:46:54</td>\n",
       "      <td>37</td>\n",
       "      <td>37</td>\n",
       "      <td>NaN</td>\n",
       "    </tr>\n",
       "    <tr>\n",
       "      <th>3</th>\n",
       "      <td>HV0003</td>\n",
       "      <td>B03404</td>\n",
       "      <td>2022-02-01 00:57:01</td>\n",
       "      <td>2022-02-01 01:28:27</td>\n",
       "      <td>225</td>\n",
       "      <td>21</td>\n",
       "      <td>NaN</td>\n",
       "    </tr>\n",
       "    <tr>\n",
       "      <th>4</th>\n",
       "      <td>HV0003</td>\n",
       "      <td>B03404</td>\n",
       "      <td>2022-02-01 00:02:38</td>\n",
       "      <td>2022-02-01 00:14:18</td>\n",
       "      <td>25</td>\n",
       "      <td>17</td>\n",
       "      <td>NaN</td>\n",
       "    </tr>\n",
       "  </tbody>\n",
       "</table>\n",
       "</div>"
      ],
      "text/plain": [
       "  hvfhs_license_num dispatching_base_num      pickup_datetime  \\\n",
       "0            HV0003               B03404  2022-02-01 00:02:50   \n",
       "1            HV0003               B03404  2022-02-01 00:20:18   \n",
       "2            HV0003               B03404  2022-02-01 00:39:18   \n",
       "3            HV0003               B03404  2022-02-01 00:57:01   \n",
       "4            HV0003               B03404  2022-02-01 00:02:38   \n",
       "\n",
       "      dropoff_datetime  PULocationID  DOLocationID  SR_Flag  \n",
       "0  2022-02-01 00:13:01            17           225      NaN  \n",
       "1  2022-02-01 00:28:31            37            37      NaN  \n",
       "2  2022-02-01 00:46:54            37            37      NaN  \n",
       "3  2022-02-01 01:28:27           225            21      NaN  \n",
       "4  2022-02-01 00:14:18            25            17      NaN  "
      ]
     },
     "execution_count": 87,
     "metadata": {},
     "output_type": "execute_result"
    }
   ],
   "source": [
    "df.head()"
   ]
  },
  {
   "cell_type": "code",
   "execution_count": 88,
   "id": "72d93046-2ebe-4b07-a156-6144fcb128ea",
   "metadata": {
    "tags": []
   },
   "outputs": [
    {
     "data": {
      "text/plain": [
       "(100, 7)"
      ]
     },
     "execution_count": 88,
     "metadata": {},
     "output_type": "execute_result"
    }
   ],
   "source": [
    "df.shape"
   ]
  },
  {
   "cell_type": "code",
   "execution_count": 89,
   "id": "f5a3b2af-5160-4954-9bc9-b04bbdbcf2f3",
   "metadata": {
    "tags": []
   },
   "outputs": [
    {
     "name": "stdout",
     "output_type": "stream",
     "text": [
      "<class 'pandas.core.frame.DataFrame'>\n",
      "RangeIndex: 100 entries, 0 to 99\n",
      "Data columns (total 7 columns):\n",
      " #   Column                Non-Null Count  Dtype  \n",
      "---  ------                --------------  -----  \n",
      " 0   hvfhs_license_num     100 non-null    object \n",
      " 1   dispatching_base_num  100 non-null    object \n",
      " 2   pickup_datetime       100 non-null    object \n",
      " 3   dropoff_datetime      100 non-null    object \n",
      " 4   PULocationID          100 non-null    int64  \n",
      " 5   DOLocationID          100 non-null    int64  \n",
      " 6   SR_Flag               0 non-null      float64\n",
      "dtypes: float64(1), int64(2), object(4)\n",
      "memory usage: 5.6+ KB\n"
     ]
    }
   ],
   "source": [
    "df.info()"
   ]
  },
  {
   "cell_type": "code",
   "execution_count": 90,
   "id": "9b0b3594-8b77-4772-a3bf-121504555b59",
   "metadata": {
    "tags": []
   },
   "outputs": [
    {
     "data": {
      "text/html": [
       "<div>\n",
       "<style scoped>\n",
       "    .dataframe tbody tr th:only-of-type {\n",
       "        vertical-align: middle;\n",
       "    }\n",
       "\n",
       "    .dataframe tbody tr th {\n",
       "        vertical-align: top;\n",
       "    }\n",
       "\n",
       "    .dataframe thead th {\n",
       "        text-align: right;\n",
       "    }\n",
       "</style>\n",
       "<table border=\"1\" class=\"dataframe\">\n",
       "  <thead>\n",
       "    <tr style=\"text-align: right;\">\n",
       "      <th></th>\n",
       "      <th>PULocationID</th>\n",
       "      <th>DOLocationID</th>\n",
       "      <th>SR_Flag</th>\n",
       "    </tr>\n",
       "  </thead>\n",
       "  <tbody>\n",
       "    <tr>\n",
       "      <th>count</th>\n",
       "      <td>100.000000</td>\n",
       "      <td>100.000000</td>\n",
       "      <td>0.0</td>\n",
       "    </tr>\n",
       "    <tr>\n",
       "      <th>mean</th>\n",
       "      <td>129.000000</td>\n",
       "      <td>141.370000</td>\n",
       "      <td>NaN</td>\n",
       "    </tr>\n",
       "    <tr>\n",
       "      <th>std</th>\n",
       "      <td>78.826366</td>\n",
       "      <td>83.332564</td>\n",
       "      <td>NaN</td>\n",
       "    </tr>\n",
       "    <tr>\n",
       "      <th>min</th>\n",
       "      <td>3.000000</td>\n",
       "      <td>3.000000</td>\n",
       "      <td>NaN</td>\n",
       "    </tr>\n",
       "    <tr>\n",
       "      <th>25%</th>\n",
       "      <td>61.500000</td>\n",
       "      <td>74.000000</td>\n",
       "      <td>NaN</td>\n",
       "    </tr>\n",
       "    <tr>\n",
       "      <th>50%</th>\n",
       "      <td>129.000000</td>\n",
       "      <td>145.000000</td>\n",
       "      <td>NaN</td>\n",
       "    </tr>\n",
       "    <tr>\n",
       "      <th>75%</th>\n",
       "      <td>189.250000</td>\n",
       "      <td>225.000000</td>\n",
       "      <td>NaN</td>\n",
       "    </tr>\n",
       "    <tr>\n",
       "      <th>max</th>\n",
       "      <td>263.000000</td>\n",
       "      <td>265.000000</td>\n",
       "      <td>NaN</td>\n",
       "    </tr>\n",
       "  </tbody>\n",
       "</table>\n",
       "</div>"
      ],
      "text/plain": [
       "       PULocationID  DOLocationID  SR_Flag\n",
       "count    100.000000    100.000000      0.0\n",
       "mean     129.000000    141.370000      NaN\n",
       "std       78.826366     83.332564      NaN\n",
       "min        3.000000      3.000000      NaN\n",
       "25%       61.500000     74.000000      NaN\n",
       "50%      129.000000    145.000000      NaN\n",
       "75%      189.250000    225.000000      NaN\n",
       "max      263.000000    265.000000      NaN"
      ]
     },
     "execution_count": 90,
     "metadata": {},
     "output_type": "execute_result"
    }
   ],
   "source": [
    "df.describe()"
   ]
  },
  {
   "cell_type": "code",
   "execution_count": null,
   "id": "e2578676-6437-4e48-9868-456d10684c92",
   "metadata": {},
   "outputs": [],
   "source": [
    "# Next: Glue (ETL service) Data Catalog"
   ]
  },
  {
   "cell_type": "code",
   "execution_count": 123,
   "id": "e3467036-35d7-4a36-a628-053156bf83f9",
   "metadata": {
    "tags": []
   },
   "outputs": [],
   "source": [
    "import numpy as np # statistical analysis\n",
    "# charts and visualize\n",
    "import seaborn as sns\n",
    "%matplotlib inline\n",
    "import matplotlib.pyplot as plt \n",
    "import requests\n",
    "from io import StringIO\n",
    "import urllib.request"
   ]
  },
  {
   "cell_type": "code",
   "execution_count": 77,
   "id": "b938db49-c159-41d5-8bed-67865758c5f7",
   "metadata": {
    "tags": []
   },
   "outputs": [],
   "source": [
    "glue = boto3.client('glue')\n"
   ]
  },
  {
   "cell_type": "code",
   "execution_count": null,
   "id": "f5478c3a-d9d0-4e5d-9ea8-964b52c99ecb",
   "metadata": {},
   "outputs": [],
   "source": [
    "# created Glue database using AWS console, named 'taxianalysis'"
   ]
  },
  {
   "cell_type": "code",
   "execution_count": 78,
   "id": "23239ada-c28d-4eab-8121-21825c8a9613",
   "metadata": {
    "tags": []
   },
   "outputs": [],
   "source": [
    "# get glue catalogs\n",
    "def list_glue_databases():\n",
    "    glue_database = glue.get_databases()\n",
    "\n",
    "    for db in glue_database['DatabaseList']:\n",
    "        print(db['Name'])"
   ]
  },
  {
   "cell_type": "code",
   "execution_count": 80,
   "id": "1f5895bc-552a-4cc6-ac8d-b523a3ab74e1",
   "metadata": {
    "tags": []
   },
   "outputs": [
    {
     "name": "stdout",
     "output_type": "stream",
     "text": [
      "default\n",
      "nyc_taxi\n",
      "taxianalysis\n"
     ]
    }
   ],
   "source": [
    "list_glue_databases()"
   ]
  },
  {
   "cell_type": "code",
   "execution_count": 84,
   "id": "16690078-c1b3-4e56-9050-45b553675483",
   "metadata": {},
   "outputs": [],
   "source": [
    "# then, use crawler to crawl data. Make sure to point to folder which has flat files saved inside. If point to flat\n",
    "# file, when querying it might return 0 result when using AWS Athena\n",
    "# 1. Create a crawler, select source folder, select target database\n",
    "# 2. Run the crawler. See that 3 tables are created"
   ]
  },
  {
   "cell_type": "code",
   "execution_count": 85,
   "id": "b11acb86-68f9-4079-a9e2-943c292b7b08",
   "metadata": {
    "tags": []
   },
   "outputs": [],
   "source": [
    "# Transform data using AWS Athena\n"
   ]
  },
  {
   "cell_type": "code",
   "execution_count": 92,
   "id": "a5b20d8e-808e-4336-821d-82d62a942e84",
   "metadata": {
    "tags": []
   },
   "outputs": [],
   "source": [
    "# List Glue Tables\n",
    "def list_glue_tables(database, verbose=True):\n",
    "    glue_tables = glue.get_tables(DatabaseName=database)\n",
    "    \n",
    "    for table in glue_tables['TableList']:\n",
    "        display(Markdown('**Table: ' + table['Name'] + '**'))\n",
    "        display(Markdown('Location: ' + table['StorageDescriptor']['Location']))\n",
    "        created = table['CreatedBy'].split('/')\n",
    "        display(Markdown('Created by: ' + created[-1]))\n",
    "        if verbose and created[-1] == 'AWS Crawler':\n",
    "            display(Markdown(f'Records: {int(table[\"Parameters\"][\"recordCount\"]):,}'))\n",
    "            display(Markdown(f'Average Record Size: {table[\"Parameters\"][\"averageRecordSize\"]} Bytes'))\n",
    "            display(Markdown(f'Dataset Size: {float(table[\"Parameters\"][\"sizeKey\"])/1024/1024:3.0f} MB'))\n",
    "            display(Markdown(f'Crawler: {table[\"Parameters\"][\"UPDATED_BY_CRAWLER\"]}'))\n",
    "        if verbose:\n",
    "            df_columns = pd.DataFrame.from_dict(table[\"StorageDescriptor\"][\"Columns\"])\n",
    "            display(df_columns[['Name', 'Type']])\n",
    "            display(Markdown('---'))"
   ]
  },
  {
   "cell_type": "code",
   "execution_count": 93,
   "id": "239559f1-d2a7-4970-9c72-80e9bc44c51b",
   "metadata": {
    "tags": []
   },
   "outputs": [
    {
     "data": {
      "text/markdown": [
       "**Table: many_trips**"
      ],
      "text/plain": [
       "<IPython.core.display.Markdown object>"
      ]
     },
     "metadata": {},
     "output_type": "display_data"
    },
    {
     "data": {
      "text/markdown": [
       "Location: s3://nyc-taxi-trips-analysis/many-trips/"
      ],
      "text/plain": [
       "<IPython.core.display.Markdown object>"
      ]
     },
     "metadata": {},
     "output_type": "display_data"
    },
    {
     "data": {
      "text/markdown": [
       "Created by: AWS-Crawler"
      ],
      "text/plain": [
       "<IPython.core.display.Markdown object>"
      ]
     },
     "metadata": {},
     "output_type": "display_data"
    },
    {
     "data": {
      "text/markdown": [
       "**Table: many_trips_well_formed**"
      ],
      "text/plain": [
       "<IPython.core.display.Markdown object>"
      ]
     },
     "metadata": {},
     "output_type": "display_data"
    },
    {
     "data": {
      "text/markdown": [
       "Location: s3://nyc-taxi-trips-analysis/many-trips-well-formed/"
      ],
      "text/plain": [
       "<IPython.core.display.Markdown object>"
      ]
     },
     "metadata": {},
     "output_type": "display_data"
    },
    {
     "data": {
      "text/markdown": [
       "Created by: arn:aws:iam::101951503432:root"
      ],
      "text/plain": [
       "<IPython.core.display.Markdown object>"
      ]
     },
     "metadata": {},
     "output_type": "display_data"
    },
    {
     "data": {
      "text/markdown": [
       "**Table: trips_2018_01_csv**"
      ],
      "text/plain": [
       "<IPython.core.display.Markdown object>"
      ]
     },
     "metadata": {},
     "output_type": "display_data"
    },
    {
     "data": {
      "text/markdown": [
       "Location: s3://nyc-taxi-trips-analysis/few-trips/trips-2018-01.csv"
      ],
      "text/plain": [
       "<IPython.core.display.Markdown object>"
      ]
     },
     "metadata": {},
     "output_type": "display_data"
    },
    {
     "data": {
      "text/markdown": [
       "Created by: AWS-Crawler"
      ],
      "text/plain": [
       "<IPython.core.display.Markdown object>"
      ]
     },
     "metadata": {},
     "output_type": "display_data"
    },
    {
     "data": {
      "text/markdown": [
       "**Table: yellow_tripdata_2022_01_csv**"
      ],
      "text/plain": [
       "<IPython.core.display.Markdown object>"
      ]
     },
     "metadata": {},
     "output_type": "display_data"
    },
    {
     "data": {
      "text/markdown": [
       "Location: s3://nyc-taxi-trips-analysis/few-trips/yellow_tripdata_2022-01.csv"
      ],
      "text/plain": [
       "<IPython.core.display.Markdown object>"
      ]
     },
     "metadata": {},
     "output_type": "display_data"
    },
    {
     "data": {
      "text/markdown": [
       "Created by: AWS-Crawler"
      ],
      "text/plain": [
       "<IPython.core.display.Markdown object>"
      ]
     },
     "metadata": {},
     "output_type": "display_data"
    },
    {
     "data": {
      "text/markdown": [
       "**Table: yellow_trips_well_formed**"
      ],
      "text/plain": [
       "<IPython.core.display.Markdown object>"
      ]
     },
     "metadata": {},
     "output_type": "display_data"
    },
    {
     "data": {
      "text/markdown": [
       "Location: s3://nyc-taxi-trips-analysis/yellow-trips-well-formed/"
      ],
      "text/plain": [
       "<IPython.core.display.Markdown object>"
      ]
     },
     "metadata": {},
     "output_type": "display_data"
    },
    {
     "data": {
      "text/markdown": [
       "Created by: arn:aws:iam::101951503432:root"
      ],
      "text/plain": [
       "<IPython.core.display.Markdown object>"
      ]
     },
     "metadata": {},
     "output_type": "display_data"
    }
   ],
   "source": [
    "list_glue_tables('taxianalysis', verbose=False)"
   ]
  },
  {
   "cell_type": "code",
   "execution_count": 134,
   "id": "6bc54f29-597c-4782-95bf-dbf978964dda",
   "metadata": {
    "tags": []
   },
   "outputs": [],
   "source": [
    "athena = boto3.client('athena')"
   ]
  },
  {
   "cell_type": "code",
   "execution_count": 135,
   "id": "963e6bbe-9908-4a22-b62c-d899f0854df8",
   "metadata": {
    "tags": []
   },
   "outputs": [],
   "source": [
    "aws_access_key_id = '#' # my AWS access key\n",
    "aws_secret_access_key = '#' # my AWS secret access key\n",
    "s3_client = boto3.client('s3',\n",
    "                         aws_access_key_id=aws_access_key_id,\n",
    "                         aws_secret_access_key=aws_secret_access_key)\n"
   ]
  },
  {
   "cell_type": "code",
   "execution_count": 130,
   "id": "1463af4a-600c-4740-bd3c-2fa5a1c3d376",
   "metadata": {
    "tags": []
   },
   "outputs": [],
   "source": [
    "bucket_name = 'nyc-taxi-trips-analysis'\n",
    "s3_object_key = 'queries/1d936ca8-9c9d-4942-a62c-757d97815f38.csv'\n",
    "# Use the S3 client to get the CSV file as a string\n",
    "csv_string = s3_client.get_object(Bucket=bucket_name, Key=s3_object_key)['Body'].read().decode('utf-8')\n",
    "\n",
    "# Use pandas to read the CSV string into a data frame\n",
    "df = pd.read_csv(StringIO(csv_string))"
   ]
  },
  {
   "cell_type": "code",
   "execution_count": 140,
   "id": "51152994-c663-4c4c-bb61-33c1dcb8458c",
   "metadata": {
    "tags": []
   },
   "outputs": [],
   "source": [
    "# calls Athena API to execute query, save results in a bucket& folder\n",
    "def athena_query(query, bucket, folder):\n",
    "    output = 's3://' + bucket + '/' + folder + '/'\n",
    "    response = athena.start_query_execution(QueryString=query, \n",
    "                                        ResultConfiguration={'OutputLocation': output})\n",
    "    qid = response['QueryExecutionId']\n",
    "    response = athena.get_query_execution(QueryExecutionId=qid)\n",
    "    state = response['QueryExecution']['Status']['State']\n",
    "    while state == 'RUNNING':\n",
    "        response = athena.get_query_execution(QueryExecutionId=qid)\n",
    "        state = response['QueryExecution']['Status']['State']\n",
    "    key = folder + '/' + qid + '.csv'\n",
    "    # data_source = {'Bucket': bucket, 'Key': key}\n",
    "    # url = s3.generate_presigned_url(ClientMethod = 'get_object', Params = {'Bucket': bucket, 'Key': key})\n",
    "    # print(url)\n",
    "    print(key)\n",
    "    return key"
   ]
  },
  {
   "cell_type": "code",
   "execution_count": 141,
   "id": "c2932e2c-3fe8-4e27-ace5-426a49418f29",
   "metadata": {
    "tags": []
   },
   "outputs": [
    {
     "name": "stdout",
     "output_type": "stream",
     "text": [
      "queries/c18b6bc3-e88b-441f-841e-8ceded3bafd6.csv\n"
     ]
    }
   ],
   "source": [
    "# query to return 1000 random samples\n",
    "bucket = 'nyc-taxi-trips-analysis'\n",
    "folder = 'queries'\n",
    "query = 'SELECT * FROM \"taxianalysis\".\"many_trips_well_formed\" TABLESAMPLE BERNOULLI(100) LIMIT 1000;'\n",
    "\n",
    "s3_object_key = athena_query(query, bucket, folder)\n"
   ]
  },
  {
   "cell_type": "code",
   "execution_count": 144,
   "id": "4db1a2ad-d55e-4276-894b-3d167fe79109",
   "metadata": {
    "tags": []
   },
   "outputs": [
    {
     "data": {
      "text/html": [
       "<div>\n",
       "<style scoped>\n",
       "    .dataframe tbody tr th:only-of-type {\n",
       "        vertical-align: middle;\n",
       "    }\n",
       "\n",
       "    .dataframe tbody tr th {\n",
       "        vertical-align: top;\n",
       "    }\n",
       "\n",
       "    .dataframe thead th {\n",
       "        text-align: right;\n",
       "    }\n",
       "</style>\n",
       "<table border=\"1\" class=\"dataframe\">\n",
       "  <thead>\n",
       "    <tr style=\"text-align: right;\">\n",
       "      <th></th>\n",
       "      <th>license</th>\n",
       "      <th>dispatch</th>\n",
       "      <th>pickup_datetime</th>\n",
       "      <th>dropoff_datetime</th>\n",
       "      <th>pick_location</th>\n",
       "      <th>drop_location</th>\n",
       "      <th>flag</th>\n",
       "    </tr>\n",
       "  </thead>\n",
       "  <tbody>\n",
       "    <tr>\n",
       "      <th>0</th>\n",
       "      <td>HV0003</td>\n",
       "      <td>B03404</td>\n",
       "      <td>2022-02-24 19:19:35</td>\n",
       "      <td>2022-02-24 19:37:35</td>\n",
       "      <td>85</td>\n",
       "      <td>72</td>\n",
       "      <td>NaN</td>\n",
       "    </tr>\n",
       "    <tr>\n",
       "      <th>1</th>\n",
       "      <td>HV0003</td>\n",
       "      <td>B03404</td>\n",
       "      <td>2022-02-24 19:40:50</td>\n",
       "      <td>2022-02-24 19:57:42</td>\n",
       "      <td>62</td>\n",
       "      <td>89</td>\n",
       "      <td>NaN</td>\n",
       "    </tr>\n",
       "    <tr>\n",
       "      <th>2</th>\n",
       "      <td>HV0003</td>\n",
       "      <td>B03404</td>\n",
       "      <td>2022-02-24 19:01:02</td>\n",
       "      <td>2022-02-24 19:29:10</td>\n",
       "      <td>148</td>\n",
       "      <td>1</td>\n",
       "      <td>NaN</td>\n",
       "    </tr>\n",
       "    <tr>\n",
       "      <th>3</th>\n",
       "      <td>HV0003</td>\n",
       "      <td>B03404</td>\n",
       "      <td>2022-02-24 19:05:31</td>\n",
       "      <td>2022-02-24 19:32:36</td>\n",
       "      <td>138</td>\n",
       "      <td>191</td>\n",
       "      <td>NaN</td>\n",
       "    </tr>\n",
       "    <tr>\n",
       "      <th>4</th>\n",
       "      <td>HV0003</td>\n",
       "      <td>B03404</td>\n",
       "      <td>2022-02-24 19:40:05</td>\n",
       "      <td>2022-02-24 19:58:59</td>\n",
       "      <td>19</td>\n",
       "      <td>171</td>\n",
       "      <td>NaN</td>\n",
       "    </tr>\n",
       "  </tbody>\n",
       "</table>\n",
       "</div>"
      ],
      "text/plain": [
       "  license dispatch      pickup_datetime     dropoff_datetime  pick_location  \\\n",
       "0  HV0003   B03404  2022-02-24 19:19:35  2022-02-24 19:37:35             85   \n",
       "1  HV0003   B03404  2022-02-24 19:40:50  2022-02-24 19:57:42             62   \n",
       "2  HV0003   B03404  2022-02-24 19:01:02  2022-02-24 19:29:10            148   \n",
       "3  HV0003   B03404  2022-02-24 19:05:31  2022-02-24 19:32:36            138   \n",
       "4  HV0003   B03404  2022-02-24 19:40:05  2022-02-24 19:58:59             19   \n",
       "\n",
       "   drop_location  flag  \n",
       "0             72   NaN  \n",
       "1             89   NaN  \n",
       "2              1   NaN  \n",
       "3            191   NaN  \n",
       "4            171   NaN  "
      ]
     },
     "execution_count": 144,
     "metadata": {},
     "output_type": "execute_result"
    }
   ],
   "source": [
    "# 这个必须和上面那块分开执行，我也不知道为啥\n",
    "# Use the S3 client to get the CSV file as a string\n",
    "csv_string = s3_client.get_object(Bucket=bucket_name, Key=s3_object_key)['Body'].read().decode('utf-8')\n",
    "\n",
    "# Use pandas to read the CSV string into a data frame\n",
    "df = pd.read_csv(StringIO(csv_string))\n",
    "df.head()"
   ]
  },
  {
   "cell_type": "code",
   "execution_count": 145,
   "id": "5cd68d8c-aaef-4d56-87f7-df999a1dade9",
   "metadata": {},
   "outputs": [
    {
     "name": "stdout",
     "output_type": "stream",
     "text": [
      "queries/afa4f097-a36b-4469-8485-78d116106bad.csv\n"
     ]
    }
   ],
   "source": [
    "# query to return 1000 random samples\n",
    "bucket = 'nyc-taxi-trips-analysis'\n",
    "folder = 'queries'\n",
    "query = 'SELECT * FROM \"taxianalysis\".\"few_trips_well_formed\" TABLESAMPLE BERNOULLI(100) LIMIT 1000;'\n",
    "\n",
    "s3_object_key = athena_query(query, bucket, folder)\n"
   ]
  },
  {
   "cell_type": "code",
   "execution_count": 146,
   "id": "0fd7a608-3d1d-48b3-9c2d-ca87c2773d4d",
   "metadata": {
    "tags": []
   },
   "outputs": [
    {
     "data": {
      "text/html": [
       "<div>\n",
       "<style scoped>\n",
       "    .dataframe tbody tr th:only-of-type {\n",
       "        vertical-align: middle;\n",
       "    }\n",
       "\n",
       "    .dataframe tbody tr th {\n",
       "        vertical-align: top;\n",
       "    }\n",
       "\n",
       "    .dataframe thead th {\n",
       "        text-align: right;\n",
       "    }\n",
       "</style>\n",
       "<table border=\"1\" class=\"dataframe\">\n",
       "  <thead>\n",
       "    <tr style=\"text-align: right;\">\n",
       "      <th></th>\n",
       "      <th>vendor</th>\n",
       "      <th>rate</th>\n",
       "      <th>passengers</th>\n",
       "      <th>distance</th>\n",
       "      <th>pick_location</th>\n",
       "      <th>drop_location</th>\n",
       "      <th>payment_type</th>\n",
       "      <th>fare</th>\n",
       "      <th>extra_fare</th>\n",
       "      <th>tax</th>\n",
       "      <th>tip</th>\n",
       "      <th>toll</th>\n",
       "      <th>surcharge</th>\n",
       "      <th>congestion_fare</th>\n",
       "      <th>total_fare</th>\n",
       "      <th>pick_when</th>\n",
       "      <th>drop_when</th>\n",
       "    </tr>\n",
       "  </thead>\n",
       "  <tbody>\n",
       "    <tr>\n",
       "      <th>0</th>\n",
       "      <td>2</td>\n",
       "      <td>1.0</td>\n",
       "      <td>1.0</td>\n",
       "      <td>1.05</td>\n",
       "      <td>230</td>\n",
       "      <td>143</td>\n",
       "      <td>2</td>\n",
       "      <td>7.5</td>\n",
       "      <td>1.0</td>\n",
       "      <td>0.5</td>\n",
       "      <td>0.00</td>\n",
       "      <td>0.0</td>\n",
       "      <td>0.3</td>\n",
       "      <td>2.5</td>\n",
       "      <td>11.80</td>\n",
       "      <td>2022-01-27 17:21:07</td>\n",
       "      <td>2022-01-27 17:30:33</td>\n",
       "    </tr>\n",
       "    <tr>\n",
       "      <th>1</th>\n",
       "      <td>2</td>\n",
       "      <td>1.0</td>\n",
       "      <td>1.0</td>\n",
       "      <td>1.84</td>\n",
       "      <td>143</td>\n",
       "      <td>246</td>\n",
       "      <td>1</td>\n",
       "      <td>8.5</td>\n",
       "      <td>1.0</td>\n",
       "      <td>0.5</td>\n",
       "      <td>3.20</td>\n",
       "      <td>0.0</td>\n",
       "      <td>0.3</td>\n",
       "      <td>2.5</td>\n",
       "      <td>16.00</td>\n",
       "      <td>2022-01-27 17:31:40</td>\n",
       "      <td>2022-01-27 17:39:59</td>\n",
       "    </tr>\n",
       "    <tr>\n",
       "      <th>2</th>\n",
       "      <td>2</td>\n",
       "      <td>1.0</td>\n",
       "      <td>1.0</td>\n",
       "      <td>0.66</td>\n",
       "      <td>246</td>\n",
       "      <td>90</td>\n",
       "      <td>1</td>\n",
       "      <td>5.5</td>\n",
       "      <td>1.0</td>\n",
       "      <td>0.5</td>\n",
       "      <td>2.45</td>\n",
       "      <td>0.0</td>\n",
       "      <td>0.3</td>\n",
       "      <td>2.5</td>\n",
       "      <td>12.25</td>\n",
       "      <td>2022-01-27 17:44:13</td>\n",
       "      <td>2022-01-27 17:49:38</td>\n",
       "    </tr>\n",
       "    <tr>\n",
       "      <th>3</th>\n",
       "      <td>2</td>\n",
       "      <td>1.0</td>\n",
       "      <td>1.0</td>\n",
       "      <td>1.54</td>\n",
       "      <td>162</td>\n",
       "      <td>50</td>\n",
       "      <td>1</td>\n",
       "      <td>15.0</td>\n",
       "      <td>1.0</td>\n",
       "      <td>0.5</td>\n",
       "      <td>3.86</td>\n",
       "      <td>0.0</td>\n",
       "      <td>0.3</td>\n",
       "      <td>2.5</td>\n",
       "      <td>23.16</td>\n",
       "      <td>2022-01-27 17:27:24</td>\n",
       "      <td>2022-01-27 17:51:59</td>\n",
       "    </tr>\n",
       "    <tr>\n",
       "      <th>4</th>\n",
       "      <td>2</td>\n",
       "      <td>1.0</td>\n",
       "      <td>2.0</td>\n",
       "      <td>0.45</td>\n",
       "      <td>231</td>\n",
       "      <td>125</td>\n",
       "      <td>2</td>\n",
       "      <td>4.0</td>\n",
       "      <td>1.0</td>\n",
       "      <td>0.5</td>\n",
       "      <td>0.00</td>\n",
       "      <td>0.0</td>\n",
       "      <td>0.3</td>\n",
       "      <td>2.5</td>\n",
       "      <td>8.30</td>\n",
       "      <td>2022-01-27 17:14:06</td>\n",
       "      <td>2022-01-27 17:17:30</td>\n",
       "    </tr>\n",
       "  </tbody>\n",
       "</table>\n",
       "</div>"
      ],
      "text/plain": [
       "   vendor  rate  passengers  distance  pick_location  drop_location  \\\n",
       "0       2   1.0         1.0      1.05            230            143   \n",
       "1       2   1.0         1.0      1.84            143            246   \n",
       "2       2   1.0         1.0      0.66            246             90   \n",
       "3       2   1.0         1.0      1.54            162             50   \n",
       "4       2   1.0         2.0      0.45            231            125   \n",
       "\n",
       "   payment_type  fare  extra_fare  tax   tip  toll  surcharge  \\\n",
       "0             2   7.5         1.0  0.5  0.00   0.0        0.3   \n",
       "1             1   8.5         1.0  0.5  3.20   0.0        0.3   \n",
       "2             1   5.5         1.0  0.5  2.45   0.0        0.3   \n",
       "3             1  15.0         1.0  0.5  3.86   0.0        0.3   \n",
       "4             2   4.0         1.0  0.5  0.00   0.0        0.3   \n",
       "\n",
       "   congestion_fare  total_fare            pick_when            drop_when  \n",
       "0              2.5       11.80  2022-01-27 17:21:07  2022-01-27 17:30:33  \n",
       "1              2.5       16.00  2022-01-27 17:31:40  2022-01-27 17:39:59  \n",
       "2              2.5       12.25  2022-01-27 17:44:13  2022-01-27 17:49:38  \n",
       "3              2.5       23.16  2022-01-27 17:27:24  2022-01-27 17:51:59  \n",
       "4              2.5        8.30  2022-01-27 17:14:06  2022-01-27 17:17:30  "
      ]
     },
     "execution_count": 146,
     "metadata": {},
     "output_type": "execute_result"
    }
   ],
   "source": [
    "# 这个必须和上面那块分开执行，我也不知道为啥\n",
    "# Use the S3 client to get the CSV file as a string\n",
    "csv_string = s3_client.get_object(Bucket=bucket_name, Key=s3_object_key)['Body'].read().decode('utf-8')\n",
    "\n",
    "# Use pandas to read the CSV string into a data frame\n",
    "df = pd.read_csv(StringIO(csv_string))\n",
    "df.head()"
   ]
  },
  {
   "cell_type": "code",
   "execution_count": 147,
   "id": "fdbf6131-59f6-4c0e-a8e1-a15772110a7b",
   "metadata": {
    "tags": []
   },
   "outputs": [
    {
     "name": "stderr",
     "output_type": "stream",
     "text": [
      "/tmp/ipykernel_20686/2760007610.py:2: FutureWarning: The default value of numeric_only in DataFrame.corr is deprecated. In a future version, it will default to False. Select only valid columns or specify the value of numeric_only to silence this warning.\n",
      "  corr = df.corr(method ='spearman')\n"
     ]
    },
    {
     "data": {
      "text/html": [
       "<div>\n",
       "<style scoped>\n",
       "    .dataframe tbody tr th:only-of-type {\n",
       "        vertical-align: middle;\n",
       "    }\n",
       "\n",
       "    .dataframe tbody tr th {\n",
       "        vertical-align: top;\n",
       "    }\n",
       "\n",
       "    .dataframe thead th {\n",
       "        text-align: right;\n",
       "    }\n",
       "</style>\n",
       "<table border=\"1\" class=\"dataframe\">\n",
       "  <thead>\n",
       "    <tr style=\"text-align: right;\">\n",
       "      <th></th>\n",
       "      <th>vendor</th>\n",
       "      <th>rate</th>\n",
       "      <th>passengers</th>\n",
       "      <th>distance</th>\n",
       "      <th>pick_location</th>\n",
       "      <th>drop_location</th>\n",
       "      <th>payment_type</th>\n",
       "      <th>fare</th>\n",
       "      <th>extra_fare</th>\n",
       "      <th>tax</th>\n",
       "      <th>tip</th>\n",
       "      <th>toll</th>\n",
       "      <th>surcharge</th>\n",
       "      <th>congestion_fare</th>\n",
       "      <th>total_fare</th>\n",
       "    </tr>\n",
       "  </thead>\n",
       "  <tbody>\n",
       "    <tr>\n",
       "      <th>vendor</th>\n",
       "      <td>1.000000</td>\n",
       "      <td>0.035933</td>\n",
       "      <td>0.174973</td>\n",
       "      <td>0.032460</td>\n",
       "      <td>-0.043379</td>\n",
       "      <td>-0.043212</td>\n",
       "      <td>0.007521</td>\n",
       "      <td>0.015889</td>\n",
       "      <td>-0.909165</td>\n",
       "      <td>-0.046849</td>\n",
       "      <td>0.029240</td>\n",
       "      <td>0.046327</td>\n",
       "      <td>-0.041882</td>\n",
       "      <td>-0.034224</td>\n",
       "      <td>0.022884</td>\n",
       "    </tr>\n",
       "    <tr>\n",
       "      <th>rate</th>\n",
       "      <td>0.035933</td>\n",
       "      <td>1.000000</td>\n",
       "      <td>0.050966</td>\n",
       "      <td>0.200093</td>\n",
       "      <td>-0.149853</td>\n",
       "      <td>-0.012869</td>\n",
       "      <td>0.021929</td>\n",
       "      <td>0.248514</td>\n",
       "      <td>0.244229</td>\n",
       "      <td>-0.089872</td>\n",
       "      <td>0.076313</td>\n",
       "      <td>0.611113</td>\n",
       "      <td>0.009281</td>\n",
       "      <td>-0.099867</td>\n",
       "      <td>0.247534</td>\n",
       "    </tr>\n",
       "    <tr>\n",
       "      <th>passengers</th>\n",
       "      <td>0.174973</td>\n",
       "      <td>0.050966</td>\n",
       "      <td>1.000000</td>\n",
       "      <td>0.032073</td>\n",
       "      <td>-0.035338</td>\n",
       "      <td>-0.052245</td>\n",
       "      <td>0.033371</td>\n",
       "      <td>0.033830</td>\n",
       "      <td>-0.133644</td>\n",
       "      <td>0.005578</td>\n",
       "      <td>0.006835</td>\n",
       "      <td>0.084353</td>\n",
       "      <td>-0.001376</td>\n",
       "      <td>0.049594</td>\n",
       "      <td>0.036946</td>\n",
       "    </tr>\n",
       "    <tr>\n",
       "      <th>distance</th>\n",
       "      <td>0.032460</td>\n",
       "      <td>0.200093</td>\n",
       "      <td>0.032073</td>\n",
       "      <td>1.000000</td>\n",
       "      <td>-0.075687</td>\n",
       "      <td>-0.049582</td>\n",
       "      <td>-0.021721</td>\n",
       "      <td>0.928494</td>\n",
       "      <td>0.062311</td>\n",
       "      <td>0.092257</td>\n",
       "      <td>0.422595</td>\n",
       "      <td>0.299247</td>\n",
       "      <td>0.075877</td>\n",
       "      <td>-0.062953</td>\n",
       "      <td>0.892140</td>\n",
       "    </tr>\n",
       "    <tr>\n",
       "      <th>pick_location</th>\n",
       "      <td>-0.043379</td>\n",
       "      <td>-0.149853</td>\n",
       "      <td>-0.035338</td>\n",
       "      <td>-0.075687</td>\n",
       "      <td>1.000000</td>\n",
       "      <td>0.045864</td>\n",
       "      <td>-0.010971</td>\n",
       "      <td>-0.090492</td>\n",
       "      <td>0.008188</td>\n",
       "      <td>0.008215</td>\n",
       "      <td>-0.019278</td>\n",
       "      <td>-0.132232</td>\n",
       "      <td>-0.018123</td>\n",
       "      <td>0.124765</td>\n",
       "      <td>-0.080576</td>\n",
       "    </tr>\n",
       "    <tr>\n",
       "      <th>drop_location</th>\n",
       "      <td>-0.043212</td>\n",
       "      <td>-0.012869</td>\n",
       "      <td>-0.052245</td>\n",
       "      <td>-0.049582</td>\n",
       "      <td>0.045864</td>\n",
       "      <td>1.000000</td>\n",
       "      <td>-0.046881</td>\n",
       "      <td>-0.060272</td>\n",
       "      <td>0.035771</td>\n",
       "      <td>-0.053615</td>\n",
       "      <td>-0.027672</td>\n",
       "      <td>-0.054905</td>\n",
       "      <td>-0.032590</td>\n",
       "      <td>0.105221</td>\n",
       "      <td>-0.047896</td>\n",
       "    </tr>\n",
       "    <tr>\n",
       "      <th>payment_type</th>\n",
       "      <td>0.007521</td>\n",
       "      <td>0.021929</td>\n",
       "      <td>0.033371</td>\n",
       "      <td>-0.021721</td>\n",
       "      <td>-0.010971</td>\n",
       "      <td>-0.046881</td>\n",
       "      <td>1.000000</td>\n",
       "      <td>-0.031145</td>\n",
       "      <td>-0.031368</td>\n",
       "      <td>-0.134197</td>\n",
       "      <td>-0.654798</td>\n",
       "      <td>-0.002780</td>\n",
       "      <td>-0.157169</td>\n",
       "      <td>-0.198599</td>\n",
       "      <td>-0.210351</td>\n",
       "    </tr>\n",
       "    <tr>\n",
       "      <th>fare</th>\n",
       "      <td>0.015889</td>\n",
       "      <td>0.248514</td>\n",
       "      <td>0.033830</td>\n",
       "      <td>0.928494</td>\n",
       "      <td>-0.090492</td>\n",
       "      <td>-0.060272</td>\n",
       "      <td>-0.031145</td>\n",
       "      <td>1.000000</td>\n",
       "      <td>0.063422</td>\n",
       "      <td>0.073544</td>\n",
       "      <td>0.453757</td>\n",
       "      <td>0.331536</td>\n",
       "      <td>0.109396</td>\n",
       "      <td>-0.055598</td>\n",
       "      <td>0.964041</td>\n",
       "    </tr>\n",
       "    <tr>\n",
       "      <th>extra_fare</th>\n",
       "      <td>-0.909165</td>\n",
       "      <td>0.244229</td>\n",
       "      <td>-0.133644</td>\n",
       "      <td>0.062311</td>\n",
       "      <td>0.008188</td>\n",
       "      <td>0.035771</td>\n",
       "      <td>-0.031368</td>\n",
       "      <td>0.063422</td>\n",
       "      <td>1.000000</td>\n",
       "      <td>0.149936</td>\n",
       "      <td>0.024185</td>\n",
       "      <td>0.120228</td>\n",
       "      <td>0.134227</td>\n",
       "      <td>0.141009</td>\n",
       "      <td>0.065623</td>\n",
       "    </tr>\n",
       "    <tr>\n",
       "      <th>tax</th>\n",
       "      <td>-0.046849</td>\n",
       "      <td>-0.089872</td>\n",
       "      <td>0.005578</td>\n",
       "      <td>0.092257</td>\n",
       "      <td>0.008215</td>\n",
       "      <td>-0.053615</td>\n",
       "      <td>-0.134197</td>\n",
       "      <td>0.073544</td>\n",
       "      <td>0.149936</td>\n",
       "      <td>1.000000</td>\n",
       "      <td>0.055122</td>\n",
       "      <td>-0.060398</td>\n",
       "      <td>0.894875</td>\n",
       "      <td>0.330442</td>\n",
       "      <td>0.073500</td>\n",
       "    </tr>\n",
       "    <tr>\n",
       "      <th>tip</th>\n",
       "      <td>0.029240</td>\n",
       "      <td>0.076313</td>\n",
       "      <td>0.006835</td>\n",
       "      <td>0.422595</td>\n",
       "      <td>-0.019278</td>\n",
       "      <td>-0.027672</td>\n",
       "      <td>-0.654798</td>\n",
       "      <td>0.453757</td>\n",
       "      <td>0.024185</td>\n",
       "      <td>0.055122</td>\n",
       "      <td>1.000000</td>\n",
       "      <td>0.182081</td>\n",
       "      <td>0.088917</td>\n",
       "      <td>0.130113</td>\n",
       "      <td>0.625512</td>\n",
       "    </tr>\n",
       "    <tr>\n",
       "      <th>toll</th>\n",
       "      <td>0.046327</td>\n",
       "      <td>0.611113</td>\n",
       "      <td>0.084353</td>\n",
       "      <td>0.299247</td>\n",
       "      <td>-0.132232</td>\n",
       "      <td>-0.054905</td>\n",
       "      <td>-0.002780</td>\n",
       "      <td>0.331536</td>\n",
       "      <td>0.120228</td>\n",
       "      <td>-0.060398</td>\n",
       "      <td>0.182081</td>\n",
       "      <td>1.000000</td>\n",
       "      <td>0.012935</td>\n",
       "      <td>-0.147377</td>\n",
       "      <td>0.335701</td>\n",
       "    </tr>\n",
       "    <tr>\n",
       "      <th>surcharge</th>\n",
       "      <td>-0.041882</td>\n",
       "      <td>0.009281</td>\n",
       "      <td>-0.001376</td>\n",
       "      <td>0.075877</td>\n",
       "      <td>-0.018123</td>\n",
       "      <td>-0.032590</td>\n",
       "      <td>-0.157169</td>\n",
       "      <td>0.109396</td>\n",
       "      <td>0.134227</td>\n",
       "      <td>0.894875</td>\n",
       "      <td>0.088917</td>\n",
       "      <td>0.012935</td>\n",
       "      <td>1.000000</td>\n",
       "      <td>0.298212</td>\n",
       "      <td>0.109330</td>\n",
       "    </tr>\n",
       "    <tr>\n",
       "      <th>congestion_fare</th>\n",
       "      <td>-0.034224</td>\n",
       "      <td>-0.099867</td>\n",
       "      <td>0.049594</td>\n",
       "      <td>-0.062953</td>\n",
       "      <td>0.124765</td>\n",
       "      <td>0.105221</td>\n",
       "      <td>-0.198599</td>\n",
       "      <td>-0.055598</td>\n",
       "      <td>0.141009</td>\n",
       "      <td>0.330442</td>\n",
       "      <td>0.130113</td>\n",
       "      <td>-0.147377</td>\n",
       "      <td>0.298212</td>\n",
       "      <td>1.000000</td>\n",
       "      <td>0.030745</td>\n",
       "    </tr>\n",
       "    <tr>\n",
       "      <th>total_fare</th>\n",
       "      <td>0.022884</td>\n",
       "      <td>0.247534</td>\n",
       "      <td>0.036946</td>\n",
       "      <td>0.892140</td>\n",
       "      <td>-0.080576</td>\n",
       "      <td>-0.047896</td>\n",
       "      <td>-0.210351</td>\n",
       "      <td>0.964041</td>\n",
       "      <td>0.065623</td>\n",
       "      <td>0.073500</td>\n",
       "      <td>0.625512</td>\n",
       "      <td>0.335701</td>\n",
       "      <td>0.109330</td>\n",
       "      <td>0.030745</td>\n",
       "      <td>1.000000</td>\n",
       "    </tr>\n",
       "  </tbody>\n",
       "</table>\n",
       "</div>"
      ],
      "text/plain": [
       "                   vendor      rate  passengers  distance  pick_location  \\\n",
       "vendor           1.000000  0.035933    0.174973  0.032460      -0.043379   \n",
       "rate             0.035933  1.000000    0.050966  0.200093      -0.149853   \n",
       "passengers       0.174973  0.050966    1.000000  0.032073      -0.035338   \n",
       "distance         0.032460  0.200093    0.032073  1.000000      -0.075687   \n",
       "pick_location   -0.043379 -0.149853   -0.035338 -0.075687       1.000000   \n",
       "drop_location   -0.043212 -0.012869   -0.052245 -0.049582       0.045864   \n",
       "payment_type     0.007521  0.021929    0.033371 -0.021721      -0.010971   \n",
       "fare             0.015889  0.248514    0.033830  0.928494      -0.090492   \n",
       "extra_fare      -0.909165  0.244229   -0.133644  0.062311       0.008188   \n",
       "tax             -0.046849 -0.089872    0.005578  0.092257       0.008215   \n",
       "tip              0.029240  0.076313    0.006835  0.422595      -0.019278   \n",
       "toll             0.046327  0.611113    0.084353  0.299247      -0.132232   \n",
       "surcharge       -0.041882  0.009281   -0.001376  0.075877      -0.018123   \n",
       "congestion_fare -0.034224 -0.099867    0.049594 -0.062953       0.124765   \n",
       "total_fare       0.022884  0.247534    0.036946  0.892140      -0.080576   \n",
       "\n",
       "                 drop_location  payment_type      fare  extra_fare       tax  \\\n",
       "vendor               -0.043212      0.007521  0.015889   -0.909165 -0.046849   \n",
       "rate                 -0.012869      0.021929  0.248514    0.244229 -0.089872   \n",
       "passengers           -0.052245      0.033371  0.033830   -0.133644  0.005578   \n",
       "distance             -0.049582     -0.021721  0.928494    0.062311  0.092257   \n",
       "pick_location         0.045864     -0.010971 -0.090492    0.008188  0.008215   \n",
       "drop_location         1.000000     -0.046881 -0.060272    0.035771 -0.053615   \n",
       "payment_type         -0.046881      1.000000 -0.031145   -0.031368 -0.134197   \n",
       "fare                 -0.060272     -0.031145  1.000000    0.063422  0.073544   \n",
       "extra_fare            0.035771     -0.031368  0.063422    1.000000  0.149936   \n",
       "tax                  -0.053615     -0.134197  0.073544    0.149936  1.000000   \n",
       "tip                  -0.027672     -0.654798  0.453757    0.024185  0.055122   \n",
       "toll                 -0.054905     -0.002780  0.331536    0.120228 -0.060398   \n",
       "surcharge            -0.032590     -0.157169  0.109396    0.134227  0.894875   \n",
       "congestion_fare       0.105221     -0.198599 -0.055598    0.141009  0.330442   \n",
       "total_fare           -0.047896     -0.210351  0.964041    0.065623  0.073500   \n",
       "\n",
       "                      tip      toll  surcharge  congestion_fare  total_fare  \n",
       "vendor           0.029240  0.046327  -0.041882        -0.034224    0.022884  \n",
       "rate             0.076313  0.611113   0.009281        -0.099867    0.247534  \n",
       "passengers       0.006835  0.084353  -0.001376         0.049594    0.036946  \n",
       "distance         0.422595  0.299247   0.075877        -0.062953    0.892140  \n",
       "pick_location   -0.019278 -0.132232  -0.018123         0.124765   -0.080576  \n",
       "drop_location   -0.027672 -0.054905  -0.032590         0.105221   -0.047896  \n",
       "payment_type    -0.654798 -0.002780  -0.157169        -0.198599   -0.210351  \n",
       "fare             0.453757  0.331536   0.109396        -0.055598    0.964041  \n",
       "extra_fare       0.024185  0.120228   0.134227         0.141009    0.065623  \n",
       "tax              0.055122 -0.060398   0.894875         0.330442    0.073500  \n",
       "tip              1.000000  0.182081   0.088917         0.130113    0.625512  \n",
       "toll             0.182081  1.000000   0.012935        -0.147377    0.335701  \n",
       "surcharge        0.088917  0.012935   1.000000         0.298212    0.109330  \n",
       "congestion_fare  0.130113 -0.147377   0.298212         1.000000    0.030745  \n",
       "total_fare       0.625512  0.335701   0.109330         0.030745    1.000000  "
      ]
     },
     "execution_count": 147,
     "metadata": {},
     "output_type": "execute_result"
    }
   ],
   "source": [
    "# determine statistical correlation\n",
    "corr = df.corr(method ='spearman')\n",
    "corr"
   ]
  },
  {
   "cell_type": "code",
   "execution_count": 148,
   "id": "4e6f306b-3cac-4b10-aa70-de36c8f2e57a",
   "metadata": {
    "tags": []
   },
   "outputs": [],
   "source": [
    "# visualize by heatmap\n",
    "def heatmap(corr):\n",
    "    sns.set(style=\"white\")\n",
    "\n",
    "    # Generate a mask for the upper triangle\n",
    "    mask = np.zeros_like(corr, dtype=np.bool)\n",
    "    mask[np.triu_indices_from(mask)] = True\n",
    "\n",
    "    # Set up the matplotlib figure\n",
    "    f, ax = plt.subplots(figsize=(11, 9))\n",
    "\n",
    "    # Generate a custom diverging colormap\n",
    "    cmap = sns.diverging_palette(220, 10, as_cmap=True)\n",
    "\n",
    "    # Draw the heatmap with the mask and correct aspect ratio\n",
    "    sns.heatmap(corr, mask=mask, cmap=cmap, vmax=.3, center=0, annot=True, fmt=\"3.2f\",\n",
    "                square=True, linewidths=.5, cbar_kws={\"shrink\": .5})"
   ]
  },
  {
   "cell_type": "code",
   "execution_count": 149,
   "id": "703b5798-8d50-4094-a883-e12e54029bbe",
   "metadata": {
    "tags": []
   },
   "outputs": [
    {
     "name": "stderr",
     "output_type": "stream",
     "text": [
      "/tmp/ipykernel_20686/2967282276.py:6: DeprecationWarning: `np.bool` is a deprecated alias for the builtin `bool`. To silence this warning, use `bool` by itself. Doing this will not modify any behavior and is safe. If you specifically wanted the numpy scalar type, use `np.bool_` here.\n",
      "Deprecated in NumPy 1.20; for more details and guidance: https://numpy.org/devdocs/release/1.20.0-notes.html#deprecations\n",
      "  mask = np.zeros_like(corr, dtype=np.bool)\n"
     ]
    },
    {
     "data": {
      "image/png": "[encoded data removed]",
      "text/plain": [
       "<Figure size 1100x900 with 2 Axes>"
      ]
     },
     "metadata": {},
     "output_type": "display_data"
    }
   ],
   "source": [
    "heatmap(corr)"
   ]
  },
  {
   "cell_type": "code",
   "execution_count": null,
   "id": "86ff5e83-ec36-49d9-8dd9-c9139a1f9ecd",
   "metadata": {},
   "outputs": [],
   "source": []
  }
 ],
 "metadata": {
  "kernelspec": {
   "display_name": "conda_python3",
   "language": "python",
   "name": "conda_python3"
  },
  "language_info": {
   "codemirror_mode": {
    "name": "ipython",
    "version": 3
   },
   "file_extension": ".py",
   "mimetype": "text/x-python",
   "name": "python",
   "nbconvert_exporter": "python",
   "pygments_lexer": "ipython3",
   "version": "3.10.8"
  }
 },
 "nbformat": 4,
 "nbformat_minor": 5
}
